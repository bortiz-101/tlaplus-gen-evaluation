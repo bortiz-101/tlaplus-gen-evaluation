{
 "cells": [
  {
   "cell_type": "markdown",
   "metadata": {},
   "source": [
    "# Shuffling and Saving\n",
    "This notebook does the following\n",
    "* Loads the csv with prompts, targets, and original indicies\n",
    "* Shuffles the examples to remove personal bias\n",
    "* Takes first 10,000 examples\n",
    "* Saves as dataset for experimentation"
   ]
  },
  {
   "cell_type": "code",
   "execution_count": 13,
   "metadata": {},
   "outputs": [
    {
     "name": "stdout",
     "output_type": "stream",
     "text": [
      "Loading CSV...\n",
      "Shuffling data...\n",
      "Selecting top 10000 samples...\n",
      "Saving to ../../../data/prompts/shuffled_prompts.csv...\n",
      "Process completed successfully.\n"
     ]
    }
   ],
   "source": [
    "import pandas as pd\n",
    "import numpy as np\n",
    "import argparse\n",
    "\n",
    "def shuffle_and_sample_csv(input_csv, output_csv, seed=42, sample_size=10000):\n",
    "    \"\"\"\n",
    "    Load a large CSV file, shuffle it with a fixed seed, and save the top samples to a new CSV.\n",
    "    \n",
    "    Parameters:\n",
    "    input_csv (str): Path to the input CSV file.\n",
    "    output_csv (str): Path to save the output sampled CSV file.\n",
    "    seed (int): Random seed for reproducibility.\n",
    "    sample_size (int): Number of rows to sample.\n",
    "    \"\"\"\n",
    "    # Set seed for reproducibility\n",
    "    np.random.seed(seed)\n",
    "    \n",
    "    # Load CSV\n",
    "    print(\"Loading CSV...\")\n",
    "    df = pd.read_csv(input_csv)\n",
    "    \n",
    "    # Shuffle data\n",
    "    print(\"Shuffling data...\")\n",
    "    df = df.sample(frac=1, random_state=seed).reset_index(drop=True)\n",
    "    \n",
    "    # Select top samples\n",
    "    print(f\"Selecting top {sample_size} samples...\")\n",
    "    df_sampled = df.head(sample_size)\n",
    "    \n",
    "    # Save to new CSV\n",
    "    print(f\"Saving to {output_csv}...\")\n",
    "    df_sampled.to_csv(output_csv, index=False)\n",
    "    print(\"Process completed successfully.\")\n",
    "\n",
    "'''if __name__ == \"__main__\":\n",
    "    parser = argparse.ArgumentParser(description=\"Shuffle and sample a large CSV file.\")\n",
    "    parser.add_argument(\"input_csv\", type=str, default = \"../../../data/prompts/first_formatted_prompts.csv\", help=\"Path to the input CSV file.\")\n",
    "    parser.add_argument(\"output_csv\", type=str, default = \"../../../data/prompts/shuffled_prompts.csv\", help=\"Path to the output CSV file.\")\n",
    "    parser.add_argument(\"--seed\", type=int, default=42, help=\"Random seed for reproducibility.\")\n",
    "    parser.add_argument(\"--sample_size\", type=int, default=10000, help=\"Number of rows to sample.\")\n",
    "    \n",
    "    args = parser.parse_args()\n",
    "    \n",
    "    shuffle_and_sample_csv(args.input_csv, args.output_csv, args.seed, args.sample_size)'''\n",
    "shuffle_and_sample_csv(input_csv=\"../../../data/prompts/first_formatted_prompts.csv\", output_csv=\"../../../data/prompts/shuffled_prompts.csv\", seed=42, sample_size=10000)"
   ]
  },
  {
   "cell_type": "code",
   "execution_count": 16,
   "metadata": {},
   "outputs": [],
   "source": [
    "df = pd.read_csv(\"../../../data/prompts/first_formatted_prompts.csv\")"
   ]
  },
  {
   "cell_type": "code",
   "execution_count": 7,
   "metadata": {},
   "outputs": [
    {
     "data": {
      "text/plain": [
       "130326"
      ]
     },
     "execution_count": 7,
     "metadata": {},
     "output_type": "execute_result"
    }
   ],
   "source": [
    "len(df)"
   ]
  },
  {
   "cell_type": "code",
   "execution_count": 18,
   "metadata": {},
   "outputs": [],
   "source": [
    "df = pd.read_csv(\"../../../data/prompts/shuffled_prompts.csv\")"
   ]
  },
  {
   "cell_type": "code",
   "execution_count": 19,
   "metadata": {},
   "outputs": [
    {
     "data": {
      "text/html": [
       "<div>\n",
       "<style scoped>\n",
       "    .dataframe tbody tr th:only-of-type {\n",
       "        vertical-align: middle;\n",
       "    }\n",
       "\n",
       "    .dataframe tbody tr th {\n",
       "        vertical-align: top;\n",
       "    }\n",
       "\n",
       "    .dataframe thead th {\n",
       "        text-align: right;\n",
       "    }\n",
       "</style>\n",
       "<table border=\"1\" class=\"dataframe\">\n",
       "  <thead>\n",
       "    <tr style=\"text-align: right;\">\n",
       "      <th></th>\n",
       "      <th>Unnamed: 0</th>\n",
       "      <th>original_index</th>\n",
       "      <th>prompt</th>\n",
       "      <th>original_file</th>\n",
       "    </tr>\n",
       "  </thead>\n",
       "  <tbody>\n",
       "    <tr>\n",
       "      <th>0</th>\n",
       "      <td>686019</td>\n",
       "      <td>755993</td>\n",
       "      <td>\\n@Override\\n\\tpublic void removeAll(Iterator&lt;...</td>\n",
       "      <td>test/9714608/9714608_391.json</td>\n",
       "    </tr>\n",
       "    <tr>\n",
       "      <th>1</th>\n",
       "      <td>35689</td>\n",
       "      <td>38981</td>\n",
       "      <td>\\n@Override\\n\\tpublic void removeAll(Iterator&lt;...</td>\n",
       "      <td>train/134236467/134236467_316.json</td>\n",
       "    </tr>\n",
       "    <tr>\n",
       "      <th>2</th>\n",
       "      <td>580541</td>\n",
       "      <td>641039</td>\n",
       "      <td>\\n@Override\\n\\tpublic void removeAll(Iterator&lt;...</td>\n",
       "      <td>eval/178848687/178848687_8.json</td>\n",
       "    </tr>\n",
       "    <tr>\n",
       "      <th>3</th>\n",
       "      <td>284689</td>\n",
       "      <td>316187</td>\n",
       "      <td>\\n@Override\\n\\tpublic void removeAll(Iterator&lt;...</td>\n",
       "      <td>train/2357859/2357859_474.json</td>\n",
       "    </tr>\n",
       "    <tr>\n",
       "      <th>4</th>\n",
       "      <td>336666</td>\n",
       "      <td>375526</td>\n",
       "      <td>\\n@Override\\n\\tpublic void removeAll(Iterator&lt;...</td>\n",
       "      <td>train/78267831/78267831_18.json</td>\n",
       "    </tr>\n",
       "  </tbody>\n",
       "</table>\n",
       "</div>"
      ],
      "text/plain": [
       "   Unnamed: 0  original_index  \\\n",
       "0      686019          755993   \n",
       "1       35689           38981   \n",
       "2      580541          641039   \n",
       "3      284689          316187   \n",
       "4      336666          375526   \n",
       "\n",
       "                                              prompt  \\\n",
       "0  \\n@Override\\n\\tpublic void removeAll(Iterator<...   \n",
       "1  \\n@Override\\n\\tpublic void removeAll(Iterator<...   \n",
       "2  \\n@Override\\n\\tpublic void removeAll(Iterator<...   \n",
       "3  \\n@Override\\n\\tpublic void removeAll(Iterator<...   \n",
       "4  \\n@Override\\n\\tpublic void removeAll(Iterator<...   \n",
       "\n",
       "                        original_file  \n",
       "0       test/9714608/9714608_391.json  \n",
       "1  train/134236467/134236467_316.json  \n",
       "2     eval/178848687/178848687_8.json  \n",
       "3      train/2357859/2357859_474.json  \n",
       "4     train/78267831/78267831_18.json  "
      ]
     },
     "execution_count": 19,
     "metadata": {},
     "output_type": "execute_result"
    }
   ],
   "source": [
    "df.head()"
   ]
  }
 ],
 "metadata": {
  "kernelspec": {
   "display_name": "Python 3",
   "language": "python",
   "name": "python3"
  },
  "language_info": {
   "codemirror_mode": {
    "name": "ipython",
    "version": 3
   },
   "file_extension": ".py",
   "mimetype": "text/x-python",
   "name": "python",
   "nbconvert_exporter": "python",
   "pygments_lexer": "ipython3",
   "version": "3.10.12"
  }
 },
 "nbformat": 4,
 "nbformat_minor": 2
}
