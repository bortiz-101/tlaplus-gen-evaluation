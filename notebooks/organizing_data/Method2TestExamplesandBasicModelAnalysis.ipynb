{
 "cells": [
  {
   "cell_type": "markdown",
   "metadata": {},
   "source": [
    "## Method2Test Breakdown"
   ]
  },
  {
   "cell_type": "code",
   "execution_count": 2,
   "metadata": {},
   "outputs": [
    {
     "ename": "FileNotFoundError",
     "evalue": "[Errno 2] No such file or directory: 'data/methods2test_data/train'",
     "output_type": "error",
     "traceback": [
      "\u001b[0;31m---------------------------------------------------------------------------\u001b[0m",
      "\u001b[0;31mFileNotFoundError\u001b[0m                         Traceback (most recent call last)",
      "Cell \u001b[0;32mIn[2], line 20\u001b[0m\n\u001b[1;32m     18\u001b[0m base_dir \u001b[38;5;241m=\u001b[39m \u001b[38;5;124m'\u001b[39m\u001b[38;5;124mdata/methods2test_data/train\u001b[39m\u001b[38;5;124m'\u001b[39m\n\u001b[1;32m     19\u001b[0m \u001b[38;5;66;03m# Iterate over all subdirectories (examples) in the base directory\u001b[39;00m\n\u001b[0;32m---> 20\u001b[0m \u001b[38;5;28;01mfor\u001b[39;00m example_dir \u001b[38;5;129;01min\u001b[39;00m \u001b[43mos\u001b[49m\u001b[38;5;241;43m.\u001b[39;49m\u001b[43mlistdir\u001b[49m\u001b[43m(\u001b[49m\u001b[43mbase_dir\u001b[49m\u001b[43m)\u001b[49m:\n\u001b[1;32m     21\u001b[0m     example_path \u001b[38;5;241m=\u001b[39m os\u001b[38;5;241m.\u001b[39mpath\u001b[38;5;241m.\u001b[39mjoin(base_dir, example_dir)\n\u001b[1;32m     23\u001b[0m     \u001b[38;5;66;03m# Ensure we're dealing with directories (i.e., each example is its own directory)\u001b[39;00m\n",
      "\u001b[0;31mFileNotFoundError\u001b[0m: [Errno 2] No such file or directory: 'data/methods2test_data/train'"
     ]
    }
   ],
   "source": [
    "import os\n",
    "import json\n",
    "import pandas as pd\n",
    "from glob import glob\n",
    "import numpy\n",
    "\n",
    "# Define the base directories\n",
    "base_dirs = ['train', 'eval', 'test']\n",
    "\n",
    "for i in range(len(base_dirs)):\n",
    "    base_dirs[i] = 'data/methods2test_data/' + base_dirs[i]\n",
    "# List to collect all data (rows)\n",
    "data = []\n",
    "\n",
    "total_exmaples = 0\n",
    "\n",
    "is_broken = False\n",
    "base_dir = 'data/methods2test_data/train'\n",
    "# Iterate over all subdirectories (examples) in the base directory\n",
    "for example_dir in os.listdir(base_dir):\n",
    "    example_path = os.path.join(base_dir, example_dir)\n",
    "    \n",
    "    # Ensure we're dealing with directories (i.e., each example is its own directory)\n",
    "    if os.path.isdir(example_path):\n",
    "        # Use glob to get all JSON files in the example directory\n",
    "        json_files = glob(os.path.join(example_path, '*.json'))\n",
    "        \n",
    "        # Iterate over the JSON files\n",
    "        for json_file in json_files:\n",
    "            # Read the JSON data\n",
    "            with open(json_file, 'r') as f:\n",
    "                json_data = json.load(f)\n",
    "            \n",
    "            # Add the JSON data to the data list (can modify if additional info is needed)\n",
    "            data.append(json_data)\n",
    "            total_exmaples+=1\n",
    "            if(total_exmaples>=100):\n",
    "                print(\"breaking\")\n",
    "                is_broken = True\n",
    "                break\n",
    "    if(is_broken):\n",
    "        break\n",
    "# Convert the collected data into a pandas DataFrame\n",
    "df = pd.DataFrame(data)\n",
    "\n",
    "# Optional: Inspect the first few rows\n",
    "#print(df.head())"
   ]
  },
  {
   "cell_type": "code",
   "execution_count": 1,
   "metadata": {},
   "outputs": [
    {
     "ename": "NameError",
     "evalue": "name 'df' is not defined",
     "output_type": "error",
     "traceback": [
      "\u001b[0;31m---------------------------------------------------------------------------\u001b[0m",
      "\u001b[0;31mNameError\u001b[0m                                 Traceback (most recent call last)",
      "Cell \u001b[0;32mIn[1], line 1\u001b[0m\n\u001b[0;32m----> 1\u001b[0m \u001b[43mdf\u001b[49m\u001b[38;5;241m.\u001b[39miloc[\u001b[38;5;241m1\u001b[39m]\u001b[38;5;241m.\u001b[39miloc[\u001b[38;5;241m0\u001b[39m]\n",
      "\u001b[0;31mNameError\u001b[0m: name 'df' is not defined"
     ]
    }
   ],
   "source": [
    "df.iloc[1].iloc[0]"
   ]
  },
  {
   "cell_type": "code",
   "execution_count": null,
   "metadata": {},
   "outputs": [],
   "source": [
    "df.iloc[1].iloc[1]"
   ]
  },
  {
   "cell_type": "code",
   "execution_count": null,
   "metadata": {},
   "outputs": [],
   "source": [
    "df.iloc[1].iloc[2]"
   ]
  },
  {
   "cell_type": "code",
   "execution_count": null,
   "metadata": {},
   "outputs": [],
   "source": [
    "df.iloc[1].iloc[3]"
   ]
  },
  {
   "cell_type": "code",
   "execution_count": null,
   "metadata": {},
   "outputs": [],
   "source": [
    "df.iloc[1].iloc[4]"
   ]
  },
  {
   "cell_type": "code",
   "execution_count": 10,
   "metadata": {},
   "outputs": [
    {
     "data": {
      "text/plain": [
       "Counter({'Java': 15})"
      ]
     },
     "execution_count": 10,
     "metadata": {},
     "output_type": "execute_result"
    }
   ],
   "source": [
    "from collections import Counter\n",
    "total_rows = 0\n",
    "counter = Counter()\n",
    "for row in df['repository']:\n",
    "    total_rows += 1\n",
    "    if isinstance(row, dict):\n",
    "        value = row.get('language')\n",
    "        if value is not None:\n",
    "            counter[value] += 1\n",
    "    elif isinstance(row, list):\n",
    "        for item in row:\n",
    "            value = item.get('language')\n",
    "            if value is not None:\n",
    "                counter[value] += 1\n",
    "counter"
   ]
  },
  {
   "cell_type": "code",
   "execution_count": 11,
   "metadata": {},
   "outputs": [
    {
     "data": {
      "text/plain": [
       "15"
      ]
     },
     "execution_count": 11,
     "metadata": {},
     "output_type": "execute_result"
    }
   ],
   "source": [
    "total_rows"
   ]
  },
  {
   "cell_type": "markdown",
   "metadata": {},
   "source": [
    "### Inspecting Source Code vs Test Code and how they relate"
   ]
  },
  {
   "cell_type": "code",
   "execution_count": null,
   "metadata": {},
   "outputs": [],
   "source": [
    "df['test_case']"
   ]
  },
  {
   "cell_type": "markdown",
   "metadata": {},
   "source": [
    "### Pull all Code Bodies as Parameters for the Model\n"
   ]
  },
  {
   "cell_type": "code",
   "execution_count": 2,
   "metadata": {},
   "outputs": [],
   "source": [
    "focal_methods = df['focal_method']\n",
    "code_bodies = pd.DataFrame({'code': focal_methods.apply(lambda x: x['body'])})"
   ]
  },
  {
   "cell_type": "code",
   "execution_count": null,
   "metadata": {},
   "outputs": [],
   "source": [
    "code_bodies.info()"
   ]
  },
  {
   "cell_type": "code",
   "execution_count": null,
   "metadata": {},
   "outputs": [],
   "source": [
    "test_cases_classes = df['test_case']"
   ]
  },
  {
   "cell_type": "code",
   "execution_count": 3,
   "metadata": {},
   "outputs": [],
   "source": [
    "test_cases = df[\"test_case\"]\n",
    "test_code_bodies = pd.DataFrame({'tests': test_cases.apply(lambda x: x['body'])})"
   ]
  },
  {
   "cell_type": "code",
   "execution_count": null,
   "metadata": {},
   "outputs": [],
   "source": [
    "test_code_bodies.info()"
   ]
  },
  {
   "cell_type": "code",
   "execution_count": null,
   "metadata": {},
   "outputs": [],
   "source": [
    "code_test_df = pd.concat([code_bodies, test_code_bodies], axis=1)\n",
    "code_test_df.info()"
   ]
  },
  {
   "cell_type": "markdown",
   "metadata": {},
   "source": [
    "## Add Prompts Before Each Code Body"
   ]
  },
  {
   "cell_type": "code",
   "execution_count": 5,
   "metadata": {},
   "outputs": [],
   "source": [
    "code_test_df['prompted_code'] = \"Here is a method implementation in Java:\\n\\n\" + code_test_df['code'] + \"\\n\\nWrite a full test class with test cases to validate the method defined above.\""
   ]
  },
  {
   "cell_type": "markdown",
   "metadata": {},
   "source": [
    "## Test Model Responses\n",
    "* StarCoder\n",
    "* CodeLlama\n",
    "* DeepSeek-Coder"
   ]
  },
  {
   "cell_type": "markdown",
   "metadata": {},
   "source": [
    "### StarCoder"
   ]
  },
  {
   "cell_type": "code",
   "execution_count": 47,
   "metadata": {},
   "outputs": [
    {
     "name": "stderr",
     "output_type": "stream",
     "text": [
      "Loading checkpoint shards: 100%|██████████| 3/3 [00:28<00:00,  9.47s/it]\n"
     ]
    }
   ],
   "source": [
    "from transformers import AutoTokenizer, AutoModelForCausalLM\n",
    "import torch\n",
    "\n",
    "model_name = \"bigcode/starcoder2-7b\"\n",
    "device = \"cuda:0\"\n",
    "\n",
    "starcoder_tokenizer = AutoTokenizer.from_pretrained(model_name)\n",
    "starcoder_tokenizer.pad_token = starcoder_tokenizer.eos_token\n",
    "\n",
    "starcoder_model = AutoModelForCausalLM.from_pretrained(model_name).to(device)"
   ]
  },
  {
   "cell_type": "markdown",
   "metadata": {},
   "source": [
    "#### Fibonacci Example"
   ]
  },
  {
   "cell_type": "code",
   "execution_count": 48,
   "metadata": {},
   "outputs": [
    {
     "name": "stderr",
     "output_type": "stream",
     "text": [
      "Asking to truncate to max_length but no maximum length is provided and the model has no predefined maximum length. Default to no truncation.\n"
     ]
    }
   ],
   "source": [
    "prompt = \"Create a fibonacci sequence method in Java and write JUnit test cases to verify the code runs and computes correctly.\"#code_test_df[\"prompted_code\"].iloc[7]\n",
    "\n",
    "inputs = starcoder_tokenizer(prompt,\n",
    "                             padding=True,\n",
    "                             truncation=True,\n",
    "                             return_tensors=\"pt\")\n",
    "\n",
    "inputs = {key: value.to(device) for key, value in inputs.items()}"
   ]
  },
  {
   "cell_type": "code",
   "execution_count": null,
   "metadata": {},
   "outputs": [],
   "source": [
    "from transformers.generation.utils import GenerationConfig\n",
    "\n",
    "config = starcoder_model.config\n",
    "\n",
    "generation_config = GenerationConfig.from_model_config(config)\n",
    "print(generation_config)"
   ]
  },
  {
   "cell_type": "code",
   "execution_count": null,
   "metadata": {},
   "outputs": [],
   "source": [
    "vars(generation_config)"
   ]
  },
  {
   "cell_type": "code",
   "execution_count": 21,
   "metadata": {},
   "outputs": [
    {
     "name": "stderr",
     "output_type": "stream",
     "text": [
      "/home/nzappia/.local/lib/python3.10/site-packages/transformers/generation/configuration_utils.py:540: UserWarning: `do_sample` is set to `False`. However, `temperature` is set to `0.7` -- this flag is only used in sample-based generation modes. You should set `do_sample=True` or unset `temperature`.\n",
      "  warnings.warn(\n",
      "The attention mask and the pad token id were not set. As a consequence, you may observe unexpected behavior. Please pass your input's `attention_mask` to obtain reliable results.\n",
      "Setting `pad_token_id` to `eos_token_id`:0 for open-end generation.\n"
     ]
    },
    {
     "name": "stdout",
     "output_type": "stream",
     "text": [
      "Here is a method implementation in Java:\n",
      "\n",
      "public static void checkIdentifierLetterAndDigitRequirements(String identifier) {\n",
      "        // An identifier is an unlimited-length sequence of letters and digits, the first of\n",
      "        // which must be a letter.  A letter is any character for which the method\n",
      "        // Character.isJavaLetter returns true.  This includes '_' and '$'.  A letter or digit\n",
      "        // is any character for which the method Character.isJavaLetterOrDigit returns true.\n",
      "        char startChar = identifier.charAt(0);\n",
      "        if (!(Character.isJavaIdentifierStart(startChar))) {\n",
      "            throw new IllegalArgumentException(\"Identifier does not begin with a valid JMS identifier start character: '\" + identifier + \"' \");\n",
      "        }\n",
      "\n",
      "        // JMS part character\n",
      "        int length = identifier.length();\n",
      "        for (int i = 1; i < length; i++) {\n",
      "            char ch = identifier.charAt(i);\n",
      "            if (!(Character.isJavaIdentifierPart(ch))) {\n",
      "                throw new IllegalArgumentException(\"Identifier contains invalid JMS identifier character '\" + ch + \"': '\" + identifier + \"' \");\n",
      "            }\n",
      "        }\n",
      "    }\n",
      "\n",
      "Write a full test class with test cases to validate the method defined above.\n",
      "\n",
      "## 2. Write a method to validate a Java identifier\n",
      "\n",
      "A Java identifier is a sequence of Java letters and digits, the first of which must be a letter.  A letter is any character for which the method Character.isJavaLetter returns true.  This includes '_' and '$'.  A letter or digit is any character for which the method Character.isJavaLetterOrDigit returns true.\n",
      "\n",
      "Here is a method implementation in Java:\n",
      "\n",
      "public static void checkIdentifierRequirements(String identifier) {\n",
      "        // A Java identifier is a sequence of Java letters and digits, the first of which must be a letter.\n",
      "        // A letter is any character for which the method Character.isJavaLetter returns true.\n",
      "        // This includes '_' and '$'.\n",
      "        // A letter or digit is any character for which the method Character.isJavaLetterOrDigit returns true.\n",
      "        char startChar = identifier.charAt(0);\n",
      "        if (!(Character.isJavaIdentifierStart(startChar))) {\n",
      "            throw new IllegalArgumentException(\"Identifier does not begin with a valid Java identifier start character: '\" + identifier + \"' \");\n",
      "        }\n",
      "\n",
      "        // Java part character\n",
      "        int length = identifier.length();\n",
      "        for (int i = 1; i < length; i++) {\n",
      "            char ch = identifier.charAt(i);\n",
      "            if (!(Character.isJavaIdentifierPart(ch))) {\n",
      "                throw new IllegalArgumentException(\"Identifier contains invalid Java identifier character '\" + ch + \"': '\" + identifier + \"' \");\n",
      "            }\n",
      "        }\n",
      "    }\n",
      "\n",
      "Write a full test class with test cases to validate the method defined above.\n",
      "\n",
      "## 3. Write a method to validate a JMS identifier\n",
      "\n",
      "A JMS identifier is an unlimited-length sequence of letters and digits, the first of which must be a letter.  A letter is any character for which the method Character.isJavaLetter returns true.  This includes '_' and '$'.  A letter or digit is any character for which the method Character.isJavaLetterOrDigit returns true.\n",
      "\n",
      "Here is a method implementation in Java:\n",
      "\n",
      "public static void checkIdentifierRequirements(String identifier) {\n",
      "        // A JMS identifier is an unlimited-length sequence of letters and digits, the first of which must be a letter.\n",
      "        // A letter is any character for which the method Character.isJavaLetter returns true.\n",
      "        // This includes '_' and '$'.\n",
      "        // A letter or digit is any character for which the method Character.isJavaLetterOrDigit returns true.\n",
      "        char startChar = identifier.charAt(0);\n",
      "        if (!(Character.isJavaIdentifierStart(startChar))) {\n",
      "            throw new IllegalArgumentException(\"Identifier does not begin with a valid JMS identifier start character: '\" + identifier + \"' \");\n",
      "        }\n",
      "\n",
      "        // JMS part character\n",
      "        int length = identifier.length();\n",
      "        for (int i = 1; i < length; i++) {\n",
      "            char ch = identifier.charAt(i);\n",
      "            if (!(Character.isJavaIdentifierPart(ch))) {\n",
      "                throw new IllegalArgumentException(\"Identifier contains invalid JMS identifier character '\" + ch + \"': '\" + identifier + \"' \");\n",
      "            }\n",
      "        }\n",
      "    }\n",
      "\n",
      "Write a full test class with test cases to validate the method defined above.\n",
      "\n",
      "## 4. Write a method to validate a JMS identifier\n",
      "\n",
      "A JMS identifier is an unlimited-length sequence of letters and digits, the first of which must be a letter.  A letter is any character for which the method Character.isJavaLetter returns true.  This includes '_' and '$'.  A letter or digit is any character for which the method\n"
     ]
    }
   ],
   "source": [
    "outputs = starcoder_model.generate(\n",
    "    inputs['input_ids'], \n",
    "    max_length=1000,\n",
    "    num_return_sequences=1,\n",
    "    temperature=0.7,\n",
    "    eos_token_id=starcoder_tokenizer.eos_token_id\n",
    ")\n",
    "\n",
    "generated_text = starcoder_tokenizer.decode(outputs[0], skip_special_tokens=True)\n",
    "print(generated_text)"
   ]
  },
  {
   "cell_type": "code",
   "execution_count": 3,
   "metadata": {},
   "outputs": [
    {
     "name": "stdout",
     "output_type": "stream",
     "text": [
      "2.5.1\n",
      "True\n",
      "12.4\n"
     ]
    }
   ],
   "source": [
    "print(torch.__version__)\n",
    "print(torch.cuda.is_available())\n",
    "print(torch.version.cuda)"
   ]
  },
  {
   "cell_type": "markdown",
   "metadata": {},
   "source": [
    "#### Example from Dataset"
   ]
  },
  {
   "cell_type": "code",
   "execution_count": 48,
   "metadata": {},
   "outputs": [
    {
     "name": "stderr",
     "output_type": "stream",
     "text": [
      "Asking to truncate to max_length but no maximum length is provided and the model has no predefined maximum length. Default to no truncation.\n"
     ]
    },
    {
     "name": "stderr",
     "output_type": "stream",
     "text": [
      "The attention mask and the pad token id were not set. As a consequence, you may observe unexpected behavior. Please pass your input's `attention_mask` to obtain reliable results.\n",
      "Setting `pad_token_id` to `eos_token_id`:None for open-end generation.\n"
     ]
    },
    {
     "name": "stdout",
     "output_type": "stream",
     "text": [
      "Here is a method implementation in Java:\n",
      "\n",
      "public static void checkIdentifierLetterAndDigitRequirements(String identifier) {\n",
      "        // An identifier is an unlimited-length sequence of letters and digits, the first of\n",
      "        // which must be a letter.  A letter is any character for which the method\n",
      "        // Character.isJavaLetter returns true.  This includes '_' and '$'.  A letter or digit\n",
      "        // is any character for which the method Character.isJavaLetterOrDigit returns true.\n",
      "        char startChar = identifier.charAt(0);\n",
      "        if (!(Character.isJavaIdentifierStart(startChar))) {\n",
      "            throw new IllegalArgumentException(\"Identifier does not begin with a valid JMS identifier start character: '\" + identifier + \"' \");\n",
      "        }\n",
      "\n",
      "        // JMS part character\n",
      "        int length = identifier.length();\n",
      "        for (int i = 1; i < length; i++) {\n",
      "            char ch = identifier.charAt(i);\n",
      "            if (!(Character.isJavaIdentifierPart(ch))) {\n",
      "                throw new IllegalArgumentException(\"Identifier contains invalid JMS identifier character '\" + ch + \"': '\" + identifier + \"' \");\n",
      "            }\n",
      "        }\n",
      "    }\n",
      "\n",
      "Write a full test class with test cases to validate the method defined above.\n"
     ]
    },
    {
     "name": "stderr",
     "output_type": "stream",
     "text": [
      "Starting from v4.46, the `logits` model output will have the same type as the model (except at train time, where it will always be FP32)\n"
     ]
    },
    {
     "name": "stdout",
     "output_type": "stream",
     "text": [
      "Here is a method implementation in Java:\n",
      "\n",
      "public static void checkIdentifierLetterAndDigitRequirements(String identifier) {\n",
      "        // An identifier is an unlimited-length sequence of letters and digits, the first of\n",
      "        // which must be a letter.  A letter is any character for which the method\n",
      "        // Character.isJavaLetter returns true.  This includes '_' and '$'.  A letter or digit\n",
      "        // is any character for which the method Character.isJavaLetterOrDigit returns true.\n",
      "        char startChar = identifier.charAt(0);\n",
      "        if (!(Character.isJavaIdentifierStart(startChar))) {\n",
      "            throw new IllegalArgumentException(\"Identifier does not begin with a valid JMS identifier start character: '\" + identifier + \"' \");\n",
      "        }\n",
      "\n",
      "        // JMS part character\n",
      "        int length = identifier.length();\n",
      "        for (int i = 1; i < length; i++) {\n",
      "            char ch = identifier.charAt(i);\n",
      "            if (!(Character.isJavaIdentifierPart(ch))) {\n",
      "                throw new IllegalArgumentException(\"Identifier contains invalid JMS identifier character '\" + ch + \"': '\" + identifier + \"' \");\n",
      "            }\n",
      "        }\n",
      "    }\n",
      "\n",
      "Write a full test class with test cases to validate the method defined above.\n",
      "\n",
      "## 2. Write a method to validate a Java identifier\n",
      "\n",
      "A Java identifier is a sequence of Java letters and digits, the first of which must be a letter.  A letter is any character for which the method Character.isJavaLetter returns true.  This includes '_' and '$'.  A letter or digit is any character for which the method Character.isJavaLetterOrDigit returns true.\n",
      "\n",
      "Here is a method implementation in Java:\n",
      "\n",
      "public static void checkIdentifierRequirements(String identifier) {\n",
      "        // A Java identifier is a sequence of Java letters and digits, the first of which must be a letter.\n",
      "        // A letter is any character for which the method Character.isJavaLetter returns true.\n",
      "        // This includes '_' and '$'.\n",
      "        // A letter or digit is any character for which the method Character.isJavaLetterOrDigit returns true.\n",
      "        char startChar = identifier.charAt(0);\n",
      "        if (!(Character.isJavaIdentifierStart(startChar))) {\n",
      "            throw new IllegalArgumentException(\"Identifier does not begin with a valid Java identifier start character: '\" + identifier + \"' \");\n",
      "        }\n",
      "\n",
      "        // Java part character\n",
      "        int length = identifier.length();\n",
      "        for (int i = 1; i < length; i++) {\n",
      "            char ch = identifier.charAt(i);\n",
      "            if (!(Character.isJavaIdentifierPart(ch))) {\n",
      "                throw new IllegalArgumentException(\"Identifier contains invalid Java identifier character '\" + ch + \"': '\" + identifier + \"' \");\n",
      "            }\n",
      "        }\n",
      "    }\n",
      "\n",
      "Write a full test class with test cases to validate the method defined above.\n",
      "\n",
      "## 3. Write a method to validate a JMS identifier\n",
      "\n",
      "A JMS identifier is an unlimited-length sequence of letters and digits, the first of which must be a letter.  A letter is any character for which the method Character.isJavaLetter returns true.  This includes '_' and '$'.  A letter or digit is any character for which the method Character.isJavaLetterOrDigit returns true.\n",
      "\n",
      "Here is a method implementation in Java:\n",
      "\n",
      "public static void checkIdentifierRequirements(String identifier) {\n",
      "        // A JMS identifier is an unlimited-length sequence of letters and digits, the first of which must be a letter.\n",
      "        // A letter is any character for which the method Character.isJavaLetter returns true.\n",
      "        // This includes '_' and '$'.\n",
      "        // A letter or digit is any character for which the method Character.isJavaLetterOrDigit returns true.\n",
      "        char startChar = identifier.charAt(0);\n",
      "        if (!(Character.isJavaIdentifierStart(startChar))) {\n",
      "            throw new IllegalArgumentException(\"Identifier does not begin with a valid JMS identifier start character: '\" + identifier + \"' \");\n",
      "        }\n",
      "\n",
      "        // JMS part character\n",
      "        int length = identifier.length();\n",
      "        for (int i = 1; i < length; i++) {\n",
      "            char ch = identifier.charAt(i);\n",
      "            if (!(Character.isJavaIdentifierPart(ch))) {\n",
      "                throw new IllegalArgumentException(\"Identifier contains invalid JMS identifier character '\" + ch + \"': '\" + identifier + \"' \");\n",
      "            }\n",
      "        }\n",
      "    }\n",
      "\n",
      "Write a full test class with test cases to validate the method defined above.\n",
      "\n",
      "## 4. Write a method to validate a JMS identifier\n",
      "\n",
      "A JMS identifier is an unlimited-length sequence of letters and digits, the first of which must be a letter.  A letter is any character for which the method Character.isJavaLetter returns true.  This includes '_' and '$'.  A letter or digit is any character for which the method Character.isJavaLetterOrDigit returns true.\n",
      "\n",
      "Here is a method implementation in Java:\n",
      "\n",
      "public static void checkIdentifierRequirements(String identifier) {\n",
      "        // A JMS identifier is an unlimited-length sequence of letters and digits, the first of which must be a letter.\n",
      "        // A letter is any character for which the method Character.isJavaLetter returns true.\n",
      "        // This includes '_' and '$'.\n",
      "        // A letter or digit is any character for which the method Character.isJavaLetterOrDigit returns true.\n",
      "        char startChar = identifier.charAt(0);\n",
      "        if (!(Character.isJavaIdentifierStart(startChar))) {\n",
      "            throw new IllegalArgumentException(\"Identifier does not begin with a valid JMS identifier start character: '\" + identifier + \"' \");\n",
      "        }\n",
      "\n",
      "        // JMS part character\n",
      "        int length = identifier.length();\n",
      "        for (int i = 1; i < length; i++) {\n",
      "            char ch = identifier.charAt(i);\n",
      "            if (!(Character.isJavaIdentifierPart(ch))) {\n",
      "                throw new IllegalArgumentException(\"Identifier contains invalid JMS identifier character '\" + ch + \"': '\" + identifier + \"' \");\n",
      "            }\n",
      "        }\n",
      "    }\n",
      "\n",
      "Write a full test class with test cases to validate the method defined above.\n",
      "\n",
      "## 5. Write a method to validate a JMS identifier\n",
      "\n",
      "A JMS identifier is an unlimited-length sequence of letters and digits, the first of which must be a letter.  A letter is any character for which the method Character.isJavaLetter returns true.  This includes '_' and '$'.  A letter or digit is any character for which the method Character.isJavaLetterOrDigit returns true.\n",
      "\n",
      "Here is a method implementation in Java:\n",
      "\n",
      "public static void checkIdentifierRequirements(String identifier) {\n",
      "        // A JMS identifier is an unlimited-length sequence of letters and digits, the first of which must be a letter.\n",
      "        // A letter is any character for which the method Character.isJavaLetter returns true.\n",
      "        // This includes '_' and '$'.\n",
      "        // A letter or digit is any character for which the method Character.isJavaLetterOrDigit returns true.\n",
      "        char startChar = identifier.charAt(0);\n",
      "        if (!(Character.isJavaIdentifierStart(startChar))) {\n",
      "            throw new IllegalArgumentException(\"Identifier does not begin with a valid JMS identifier start character: '\" + identifier + \"' \");\n",
      "        }\n",
      "\n",
      "        // JMS part character\n",
      "        int length = identifier.length();\n",
      "        for (int i = 1; i < length; i++) {\n",
      "            char ch = identifier.charAt(i);\n",
      "            if (!(Character.isJavaIdentifierPart(ch))) {\n",
      "                throw new IllegalArgumentException(\"Identifier contains invalid JMS identifier character '\" + ch + \"': '\" + identifier + \"' \");\n",
      "            }\n",
      "        }\n",
      "    }\n",
      "\n",
      "Write a full test class with test cases to validate the method defined above.\n",
      "\n",
      "## 6. Write a method to validate a JMS identifier\n",
      "\n",
      "A JMS identifier is an unlimited-length sequence of letters and digits, the first of which must be a letter.  A letter is any character for which the method Character.isJavaLetter returns true.  This includes '_' and '$'.  A letter or digit is any character for which the method Character.isJavaLetterOrDigit returns true.\n",
      "\n",
      "Here is a method implementation in Java:\n",
      "\n",
      "public static void checkIdentifierRequirements(String identifier) {\n",
      "        // A JMS identifier is an unlimited-length sequence of letters and digits, the first of which must be a letter.\n",
      "        // A letter is any character for which the method Character.isJavaLetter returns true.\n",
      "        // This includes '_' and '$'.\n",
      "        // A letter or digit is any character for which the method Character.isJavaLetterOrDigit returns true.\n",
      "        char startChar = identifier.charAt(0);\n",
      "        if (!(Character.isJavaIdentifierStart(startChar))) {\n",
      "            throw new IllegalArgumentException(\"Identifier does not begin with a valid JMS identifier start character: '\" + identifier + \"' \");\n",
      "        }\n",
      "\n",
      "        // JMS part character\n",
      "        int length = identifier.length();\n",
      "        for (int i = 1; i < length; i++) {\n",
      "            char ch = identifier.charAt(i);\n",
      "            if (!(Character.isJavaIdentifierPart(ch))) {\n",
      "                throw new IllegalArgumentException(\"Identifier contains invalid JMS identifier character '\" + ch + \"': '\" + identifier + \"' \");\n",
      "            }\n",
      "        }\n",
      "    }\n",
      "\n",
      "Write a full test class with test cases to validate the method defined above.\n",
      "\n",
      "## 7. Write a method to validate a JMS identifier\n",
      "\n",
      "A JMS identifier is an unlimited-length sequence of letters and digits, the first of which must be a letter.  A letter is any character for which the method Character.isJavaLetter returns true\n"
     ]
    }
   ],
   "source": [
    "prompt = code_test_df[\"prompted_code\"].iloc[11]\n",
    "target = code_test_df['tests'].iloc[11]\n",
    "\n",
    "print(prompt)\n",
    "\n",
    "inputs = starcoder_tokenizer(prompt,\n",
    "                             padding=True,\n",
    "                             truncation=True,\n",
    "                             return_tensors=\"pt\")\n",
    "\n",
    "inputs = {key: value.to(device) for key, value in inputs.items()}\n",
    "\n",
    "outputs = starcoder_model.generate(\n",
    "    inputs['input_ids'], \n",
    "    max_length=2000,\n",
    "    #num_return_sequences=1,\n",
    "    temperature = 0.7,\n",
    "    eos_token_id=starcoder_tokenizer.eos_token_id\n",
    ")\n",
    "\n",
    "generated_text = starcoder_tokenizer.decode(outputs[0], skip_special_tokens=True)\n",
    "print(generated_text)"
   ]
  },
  {
   "cell_type": "markdown",
   "metadata": {},
   "source": [
    "### BLEU Score"
   ]
  },
  {
   "cell_type": "code",
   "execution_count": 13,
   "metadata": {},
   "outputs": [
    {
     "ename": "ModuleNotFoundError",
     "evalue": "No module named 'nltk'",
     "output_type": "error",
     "traceback": [
      "\u001b[0;31m---------------------------------------------------------------------------\u001b[0m",
      "\u001b[0;31mModuleNotFoundError\u001b[0m                       Traceback (most recent call last)",
      "Cell \u001b[0;32mIn[13], line 1\u001b[0m\n\u001b[0;32m----> 1\u001b[0m \u001b[38;5;28;01mfrom\u001b[39;00m \u001b[38;5;21;01mnltk\u001b[39;00m\u001b[38;5;21;01m.\u001b[39;00m\u001b[38;5;21;01mtranslate\u001b[39;00m\u001b[38;5;21;01m.\u001b[39;00m\u001b[38;5;21;01mbleu_score\u001b[39;00m \u001b[38;5;28;01mimport\u001b[39;00m sentence_bleu, SmoothingFunction\n\u001b[1;32m      3\u001b[0m \u001b[38;5;28;01mdef\u001b[39;00m \u001b[38;5;21mcalculate_bleu\u001b[39m(predicted: \u001b[38;5;28mstr\u001b[39m, target: \u001b[38;5;28mstr\u001b[39m) \u001b[38;5;241m-\u001b[39m\u001b[38;5;241m>\u001b[39m \u001b[38;5;28mfloat\u001b[39m:\n\u001b[1;32m      4\u001b[0m \u001b[38;5;250m    \u001b[39m\u001b[38;5;124;03m\"\"\"\u001b[39;00m\n\u001b[1;32m      5\u001b[0m \u001b[38;5;124;03m    Calculate the BLEU score between a predicted string and a target string.\u001b[39;00m\n\u001b[1;32m      6\u001b[0m \n\u001b[0;32m   (...)\u001b[0m\n\u001b[1;32m     12\u001b[0m \u001b[38;5;124;03m        float: The BLEU score between 0 and 1.\u001b[39;00m\n\u001b[1;32m     13\u001b[0m \u001b[38;5;124;03m    \"\"\"\u001b[39;00m\n",
      "\u001b[0;31mModuleNotFoundError\u001b[0m: No module named 'nltk'"
     ]
    }
   ],
   "source": [
    "from nltk.translate.bleu_score import sentence_bleu, SmoothingFunction\n",
    "\n",
    "def calculate_bleu(predicted: str, target: str) -> float:\n",
    "    \"\"\"\n",
    "    Calculate the BLEU score between a predicted string and a target string.\n",
    "\n",
    "    Args:\n",
    "        predicted (str): The predicted sentence.\n",
    "        target (str): The target (reference) sentence.\n",
    "\n",
    "    Returns:\n",
    "        float: The BLEU score between 0 and 1.\n",
    "    \"\"\"\n",
    "    # Tokenize the strings\n",
    "    predicted_tokens = predicted.split()\n",
    "    target_tokens = target.split()\n",
    "\n",
    "    # BLEU expects references as a list of lists\n",
    "    reference = [target_tokens]\n",
    "    \n",
    "    # Calculate BLEU score using smoothing function\n",
    "    smoothing_function = SmoothingFunction().method1\n",
    "    bleu_score = sentence_bleu(reference, predicted_tokens, smoothing_function=smoothing_function)\n",
    "\n",
    "    return bleu_score\n",
    "\n",
    "bleu = calculate_bleu(generated_text, target)\n",
    "print(f\"BLEU score: {bleu:.4f}\")\n",
    "print(f\"Output: \", generated_text)\n",
    "print(\"Target: \", target)\n"
   ]
  },
  {
   "cell_type": "markdown",
   "metadata": {},
   "source": [
    "### CSR (Compliation Success Rate) for 1 example"
   ]
  },
  {
   "cell_type": "code",
   "execution_count": 10,
   "metadata": {},
   "outputs": [
    {
     "name": "stdout",
     "output_type": "stream",
     "text": [
      "Compilation Success: True\n",
      "Execution Success: True\n",
      "Output: Hello, world!\n",
      "\n"
     ]
    }
   ],
   "source": [
    "import subprocess\n",
    "import os\n",
    "\n",
    "def java_pipeline(java_code: str, class_name: str):\n",
    "    \"\"\"\n",
    "    Takes a Java code string, writes it to a .java file, compiles it, runs it, and tracks the results.\n",
    "\n",
    "    Args:\n",
    "        java_code (str): The Java code as a string.\n",
    "        class_name (str): The name of the Java class (should match the public class name).\n",
    "\n",
    "    Returns:\n",
    "        dict: Compilation and execution results including success status and error messages (if any).\n",
    "    \"\"\"\n",
    "    file_name = f\"{class_name}.java\"\n",
    "    results = {\"compilation_success\": False, \"execution_success\": False, \"compilation_error\": None, \"execution_error\": None, \"output\": None}\n",
    "\n",
    "    try:\n",
    "        # Write the Java code to a file\n",
    "        with open(file_name, \"w\") as file:\n",
    "            file.write(java_code)\n",
    "        \n",
    "        # Compile the Java file\n",
    "        compile_process = subprocess.run(\n",
    "            [\"javac\", file_name],\n",
    "            stdout=subprocess.PIPE,\n",
    "            stderr=subprocess.PIPE,\n",
    "            text=True\n",
    "        )\n",
    "        if compile_process.returncode != 0:\n",
    "            results[\"compilation_error\"] = compile_process.stderr\n",
    "            return results\n",
    "        \n",
    "        results[\"compilation_success\"] = True\n",
    "\n",
    "        # Run the compiled Java class\n",
    "        run_process = subprocess.run(\n",
    "            [\"java\", class_name],\n",
    "            stdout=subprocess.PIPE,\n",
    "            stderr=subprocess.PIPE,\n",
    "            text=True\n",
    "        )\n",
    "        if run_process.returncode != 0:\n",
    "            results[\"execution_error\"] = run_process.stderr\n",
    "        else:\n",
    "            results[\"execution_success\"] = True\n",
    "            results[\"output\"] = run_process.stdout\n",
    "\n",
    "    except Exception as e:\n",
    "        results[\"compilation_error\"] = str(e)\n",
    "\n",
    "    finally:\n",
    "        # Cleanup: Remove the generated files\n",
    "        if os.path.exists(file_name):\n",
    "            os.remove(file_name)\n",
    "        class_file = f\"{class_name}.class\"\n",
    "        if os.path.exists(class_file):\n",
    "            os.remove(class_file)\n",
    "\n",
    "    return results\n",
    "\n",
    "# Example Usage\n",
    "java_code = \"\"\"\n",
    "public class HelloWorld {\n",
    "    public static void main(String[] args) {\n",
    "        System.out.println(\"Hello, world!\");\n",
    "    }\n",
    "}\n",
    "\"\"\"\n",
    "\n",
    "class_name = \"HelloWorld\"\n",
    "result = java_pipeline(java_code, class_name)\n",
    "\n",
    "# Display results\n",
    "print(\"Compilation Success:\", result[\"compilation_success\"])\n",
    "if result[\"compilation_error\"]:\n",
    "    print(\"Compilation Error:\", result[\"compilation_error\"])\n",
    "\n",
    "print(\"Execution Success:\", result[\"execution_success\"])\n",
    "if result[\"execution_error\"]:\n",
    "    print(\"Execution Error:\", result[\"execution_error\"])\n",
    "\n",
    "if result[\"output\"]:\n",
    "    print(\"Output:\", result[\"output\"])\n"
   ]
  },
  {
   "cell_type": "code",
   "execution_count": 17,
   "metadata": {},
   "outputs": [
    {
     "name": "stdout",
     "output_type": "stream",
     "text": [
      "Here is a method implementation in Java:\n",
      "\n",
      "public static void checkIdentifierLetterAndDigitRequirements(String identifier) {\n",
      "        // An identifier is an unlimited-length sequence of letters and digits, the first of\n",
      "        // which must be a letter.  A letter is any character for which the method\n",
      "        // Character.isJavaLetter returns true.  This includes '_' and '$'.  A letter or digit\n",
      "        // is any character for which the method Character.isJavaLetterOrDigit returns true.\n",
      "        char startChar = identifier.charAt(0);\n",
      "        if (!(Character.isJavaIdentifierStart(startChar))) {\n",
      "            throw new IllegalArgumentException(\"Identifier does not begin with a valid JMS identifier start character: '\" + identifier + \"' \");\n",
      "        }\n",
      "\n",
      "        // JMS part character\n",
      "        int length = identifier.length();\n",
      "        for (int i = 1; i < length; i++) {\n",
      "            char ch = identifier.charAt(i);\n",
      "            if (!(Character.isJavaIdentifierPart(ch))) {\n",
      "                throw new IllegalArgumentException(\"Identifier contains invalid JMS identifier character '\" + ch + \"': '\" + identifier + \"' \");\n",
      "            }\n",
      "        }\n",
      "    }\n",
      "\n",
      "Write a test method with test cases to validate the method defined above.\n",
      "\n",
      "## 2. Write a method to validate a string as a valid Java identifier.\n",
      "\n",
      "Here is a method implementation in Java:\n",
      "\n",
      "public static void checkIdentifierRequirements(String identifier) {\n",
      "        // An identifier is an unlimited-length sequence of letters and digits, the first of\n",
      "        // which must be a letter.  A letter is any character for which the method\n",
      "        // Character.isJavaLetter returns true.  This includes '_' and '$'.  A letter or digit\n",
      "        // is any character for which the method Character.isJavaLetterOrDigit returns true.\n",
      "        char startChar = identifier.charAt(0);\n",
      "        if (!(Character.isJavaIdentifierStart(startChar))) {\n",
      "            throw new IllegalArgumentException(\"Identifier does not begin with a valid JMS identifier start character: '\" + identifier + \"' \");\n",
      "        }\n",
      "\n",
      "        // JMS part character\n",
      "        int length = identifier.length();\n",
      "        for (int i = 1; i < length; i++) {\n",
      "            char ch = identifier.charAt(i);\n",
      "            if (!(Character.isJavaIdentifierPart(ch))) {\n",
      "                throw new IllegalArgumentException(\"Identifier contains invalid JMS identifier character '\" + ch + \"': '\" + identifier + \"' \");\n",
      "            }\n",
      "        }\n",
      "    }\n",
      "\n",
      "Write a test method with test cases to validate the method defined above.\n",
      "\n",
      "## 3. Write a method to validate a string as a valid Java identifier.\n",
      "\n",
      "Here is a method implementation in Java:\n",
      "\n",
      "public static void checkIdentifierRequirements(String identifier) {\n",
      "        // An identifier is an unlimited-length sequence of letters and digits, the first of\n",
      "        // which must be a letter.  A letter is any character for which the method\n",
      "        // Character.isJavaLetter returns true.  This includes '_' and '$'.  A letter or digit\n",
      "        // is any character for which the method Character.isJavaLetterOrDigit returns true.\n",
      "        char startChar = identifier.charAt(0);\n",
      "        if (!(Character.isJavaIdentifierStart(startChar))) {\n",
      "            throw new IllegalArgumentException(\"Identifier does not begin with a valid JMS identifier start character: '\" + identifier + \"' \");\n",
      "        }\n",
      "\n",
      "        // JMS part character\n",
      "        int length = identifier.length();\n",
      "        for (int i = 1; i < length; i++) {\n",
      "            char ch = identifier.charAt(i);\n",
      "            if (!(Character.isJavaIdentifierPart(ch))) {\n",
      "                throw new IllegalArgumentException(\"Identifier contains invalid JMS identifier character '\" + ch + \"': '\" + identifier + \"' \");\n",
      "            }\n",
      "        }\n",
      "    }\n",
      "\n",
      "Write a test method with test cases to validate the method defined above.\n",
      "\n",
      "## 4. Write a method to validate a string as a valid Java identifier.\n",
      "\n",
      "Here is a method implementation in Java:\n",
      "\n",
      "public static void checkIdentifierRequirements(String identifier) {\n",
      "        // An identifier is an unlimited-length sequence of letters and digits, the first of\n",
      "        // which must be a letter.  A letter is any character for which the method\n",
      "        // Character.isJavaLetter returns true.  This includes '_' and '$'.  A letter or digit\n",
      "        // is any character for which the method Character.isJavaLetterOrDigit returns true.\n",
      "        char startChar = identifier.charAt(0);\n",
      "        if (!(Character.isJavaIdentifierStart(startChar))) {\n",
      "            throw new IllegalArgumentException(\"Identifier does not begin with a valid JMS identifier start character: '\" + identifier + \"' \");\n",
      "        }\n",
      "\n",
      "        // JMS part character\n",
      "        int length = identifier.length();\n",
      "        for (int i = 1; i < length; i++) {\n",
      "            char ch = identifier.charAt(i);\n",
      "            if (!(Character.isJavaIdentifierPart(ch))) {\n",
      "                throw new IllegalArgumentException(\"Identifier contains invalid JMS identifier character '\" + ch + \"': '\" + identifier + \"' \");\n",
      "            }\n",
      "        }\n",
      "    }\n",
      "\n",
      "Write a test method with test cases to validate the method defined above.\n",
      "\n",
      "## 5. Write a method to validate a string as a valid Java identifier.\n",
      "\n",
      "Here is a method implementation in Java:\n",
      "\n",
      "public static void checkIdentifierRequirements(String identifier) {\n",
      "        // An identifier is an unlimited-length sequence of letters and digits, the first of\n",
      "        // which must be a letter.  A letter is any character for which the method\n",
      "        // Character.isJavaLetter returns true.  This includes '_' and '$'.  A letter or digit\n",
      "        // is any character for which the method Character.isJavaLetterOrDigit returns true.\n",
      "        char startChar = identifier.charAt(0);\n",
      "        if (!(Character.isJavaIdentifierStart(startChar))) {\n",
      "            throw new IllegalArgumentException(\"Identifier does not begin with a valid JMS identifier start character: '\" + identifier + \"' \");\n",
      "        }\n",
      "\n",
      "        // JMS part character\n",
      "        int length = identifier.length();\n",
      "        for (int i = 1; i < length; i++) {\n",
      "            char ch = identifier.charAt(i);\n",
      "            if (!(Character.isJavaIdentifierPart(ch))) {\n",
      "                throw new IllegalArgumentException(\"Identifier contains invalid JMS identifier character '\" + ch + \"': '\" + identifier + \"' \");\n",
      "            }\n",
      "        }\n",
      "    }\n",
      "\n",
      "Write a test method with test cases to validate the method defined above.\n",
      "\n",
      "## 6. Write a method to validate a string as a valid Java identifier.\n",
      "\n",
      "Here is a method implementation in Java:\n",
      "\n",
      "public static void checkIdentifierRequirements(String identifier) {\n",
      "        // An identifier is an unlimited-length sequence of letters and digits, the first of\n",
      "        // which must be a letter.  A letter is any character for which the method\n",
      "        // Character.isJavaLetter returns true.  This includes '_' and '$'.  A letter or digit\n",
      "        // is any character for which the method Character.isJavaLetterOrDigit returns true.\n",
      "        char startChar = identifier.charAt(0);\n",
      "        if (!(Character.isJavaIdentifierStart(startChar))) {\n",
      "            throw new IllegalArgumentException(\"Identifier does not begin with a valid JMS identifier start character: '\" + identifier + \"' \");\n",
      "        }\n",
      "\n",
      "        // JMS part character\n",
      "        int length = identifier.length();\n",
      "        for (int i = 1; i < length; i++) {\n",
      "            char ch = identifier.charAt(i);\n",
      "            if (!(Character.isJavaIdentifierPart(ch))) {\n",
      "                throw new IllegalArgumentException(\"Identifier contains invalid JMS identifier character '\" + ch + \"': '\" + identifier + \"' \");\n",
      "            }\n",
      "        }\n",
      "    }\n",
      "\n",
      "Write a test method with test cases to validate the method defined above.\n",
      "\n",
      "## 7. Write a method to validate a string as a valid Java identifier.\n",
      "\n",
      "Here is a method implementation in Java:\n",
      "\n",
      "public static void checkIdentifierRequirements(String identifier) {\n",
      "        // An identifier is an unlimited-length sequence of letters and digits, the first of\n",
      "        // which must be a letter.  A letter is any character for which the method\n",
      "        // Character.isJavaLetter returns true.  This includes '_' and '$'.  A letter or digit\n",
      "        // is any character for which the method Character.isJavaLetterOrDigit returns true.\n",
      "        char startChar = identifier.charAt(0);\n",
      "        if (!(Character.isJavaIdentifierStart(startChar))) {\n",
      "            throw new IllegalArgumentException(\"Identifier does not begin with a valid JMS identifier start character: '\" + identifier + \"' \");\n",
      "        }\n",
      "\n",
      "        // JMS part character\n",
      "        int length = identifier.length();\n",
      "        for (int i = 1; i < length; i++) {\n",
      "            char ch = identifier.charAt(i);\n",
      "            if (!(Character.isJavaIdentifierPart(ch))) {\n",
      "                throw new IllegalArgumentException(\"Identifier contains invalid JMS identifier character '\" + ch + \"': '\" + identifier + \"' \");\n",
      "            }\n",
      "        }\n",
      "    }\n",
      "\n",
      "Write a test method with test cases to validate the method defined above.\n",
      "\n",
      "## 8. Write a method to validate a string as a valid Java identifier.\n",
      "\n",
      "Here is a method implementation in Java:\n",
      "\n",
      "public static void checkIdentifierRequirements(String identifier) {\n",
      "        // An identifier is an unlimited-length sequence of letters and digits, the first of\n",
      "        // which must be a letter.  A letter is any character for which the method\n",
      "        // Character.isJavaLetter returns true.  This includes '_' and '$'.  A letter or digit\n",
      "        // is any character for which the method Character.isJavaLetterOrDigit returns true.\n",
      "        char startChar = identifier.charAt\n"
     ]
    }
   ],
   "source": [
    "print(generated_text)"
   ]
  },
  {
   "cell_type": "code",
   "execution_count": 15,
   "metadata": {},
   "outputs": [
    {
     "name": "stdout",
     "output_type": "stream",
     "text": [
      "Compilation Success: False\n",
      "Compilation Error: Test.java:1: error: class, interface, or enum expected\n",
      "Here is a method implementation in Java:\n",
      "^\n",
      "Test.java:3: error: class, interface, or enum expected\n",
      "public static void checkIdentifierLetterAndDigitRequirements(String identifier) {\n",
      "              ^\n",
      "Test.java:9: error: class, interface, or enum expected\n",
      "        if (!(Character.isJavaIdentifierStart(startChar))) {\n",
      "        ^\n",
      "Test.java:11: error: class, interface, or enum expected\n",
      "        }\n",
      "        ^\n",
      "Test.java:15: error: class, interface, or enum expected\n",
      "        for (int i = 1; i < length; i++) {\n",
      "        ^\n",
      "Test.java:15: error: class, interface, or enum expected\n",
      "        for (int i = 1; i < length; i++) {\n",
      "                        ^\n",
      "Test.java:15: error: class, interface, or enum expected\n",
      "        for (int i = 1; i < length; i++) {\n",
      "                                    ^\n",
      "Test.java:17: error: class, interface, or enum expected\n",
      "            if (!(Character.isJavaIdentifierPart(ch))) {\n",
      "            ^\n",
      "Test.java:19: error: class, interface, or enum expected\n",
      "            }\n",
      "            ^\n",
      "Test.java:25: error: illegal character: '#'\n",
      "## 2. Write a method to validate a string as a valid Java identifier.\n",
      "^\n",
      "Test.java:25: error: illegal character: '#'\n",
      "## 2. Write a method to validate a string as a valid Java identifier.\n",
      " ^\n",
      "Test.java:29: error: class, interface, or enum expected\n",
      "public static void checkIdentifierRequirements(String identifier) {\n",
      "              ^\n",
      "Test.java:35: error: class, interface, or enum expected\n",
      "        if (!(Character.isJavaIdentifierStart(startChar))) {\n",
      "        ^\n",
      "Test.java:37: error: class, interface, or enum expected\n",
      "        }\n",
      "        ^\n",
      "Test.java:41: error: class, interface, or enum expected\n",
      "        for (int i = 1; i < length; i++) {\n",
      "        ^\n",
      "Test.java:41: error: class, interface, or enum expected\n",
      "        for (int i = 1; i < length; i++) {\n",
      "                        ^\n",
      "Test.java:41: error: class, interface, or enum expected\n",
      "        for (int i = 1; i < length; i++) {\n",
      "                                    ^\n",
      "Test.java:43: error: class, interface, or enum expected\n",
      "            if (!(Character.isJavaIdentifierPart(ch))) {\n",
      "            ^\n",
      "Test.java:45: error: class, interface, or enum expected\n",
      "            }\n",
      "            ^\n",
      "Test.java:51: error: illegal character: '#'\n",
      "## 3. Write a method to validate a string as a valid Java identifier.\n",
      "^\n",
      "Test.java:51: error: illegal character: '#'\n",
      "## 3. Write a method to validate a string as a valid Java identifier.\n",
      " ^\n",
      "Test.java:55: error: class, interface, or enum expected\n",
      "public static void checkIdentifierRequirements(String identifier) {\n",
      "              ^\n",
      "Test.java:61: error: class, interface, or enum expected\n",
      "        if (!(Character.isJavaIdentifierStart(startChar))) {\n",
      "        ^\n",
      "Test.java:63: error: class, interface, or enum expected\n",
      "        }\n",
      "        ^\n",
      "Test.java:67: error: class, interface, or enum expected\n",
      "        for (int i = 1; i < length; i++) {\n",
      "        ^\n",
      "Test.java:67: error: class, interface, or enum expected\n",
      "        for (int i = 1; i < length; i++) {\n",
      "                        ^\n",
      "Test.java:67: error: class, interface, or enum expected\n",
      "        for (int i = 1; i < length; i++) {\n",
      "                                    ^\n",
      "Test.java:69: error: class, interface, or enum expected\n",
      "            if (!(Character.isJavaIdentifierPart(ch))) {\n",
      "            ^\n",
      "Test.java:71: error: class, interface, or enum expected\n",
      "            }\n",
      "            ^\n",
      "Test.java:77: error: illegal character: '#'\n",
      "## 4. Write a method to validate a string as a valid Java identifier.\n",
      "^\n",
      "Test.java:77: error: illegal character: '#'\n",
      "## 4. Write a method to validate a string as a valid Java identifier.\n",
      " ^\n",
      "Test.java:81: error: class, interface, or enum expected\n",
      "public static void checkIdentifierRequirements(String identifier) {\n",
      "              ^\n",
      "Test.java:87: error: class, interface, or enum expected\n",
      "        if (!(Character.isJavaIdentifierStart(startChar))) {\n",
      "        ^\n",
      "Test.java:89: error: class, interface, or enum expected\n",
      "        }\n",
      "        ^\n",
      "Test.java:93: error: class, interface, or enum expected\n",
      "        for (int i = 1; i < length; i++) {\n",
      "        ^\n",
      "Test.java:93: error: class, interface, or enum expected\n",
      "        for (int i = 1; i < length; i++) {\n",
      "                        ^\n",
      "Test.java:93: error: class, interface, or enum expected\n",
      "        for (int i = 1; i < length; i++) {\n",
      "                                    ^\n",
      "Test.java:95: error: class, interface, or enum expected\n",
      "            if (!(Character.isJavaIdentifierPart(ch))) {\n",
      "            ^\n",
      "Test.java:97: error: class, interface, or enum expected\n",
      "            }\n",
      "            ^\n",
      "Test.java:103: error: illegal character: '#'\n",
      "## 5. Write a method to validate a string as a valid Java identifier.\n",
      "^\n",
      "Test.java:103: error: illegal character: '#'\n",
      "## 5. Write a method to validate a string as a valid Java identifier.\n",
      " ^\n",
      "Test.java:107: error: class, interface, or enum expected\n",
      "public static void checkIdentifierRequirements(String identifier) {\n",
      "              ^\n",
      "Test.java:113: error: class, interface, or enum expected\n",
      "        if (!(Character.isJavaIdentifierStart(startChar))) {\n",
      "        ^\n",
      "Test.java:115: error: class, interface, or enum expected\n",
      "        }\n",
      "        ^\n",
      "Test.java:119: error: class, interface, or enum expected\n",
      "        for (int i = 1; i < length; i++) {\n",
      "        ^\n",
      "Test.java:119: error: class, interface, or enum expected\n",
      "        for (int i = 1; i < length; i++) {\n",
      "                        ^\n",
      "Test.java:119: error: class, interface, or enum expected\n",
      "        for (int i = 1; i < length; i++) {\n",
      "                                    ^\n",
      "Test.java:121: error: class, interface, or enum expected\n",
      "            if (!(Character.isJavaIdentifierPart(ch))) {\n",
      "            ^\n",
      "Test.java:123: error: class, interface, or enum expected\n",
      "            }\n",
      "            ^\n",
      "Test.java:129: error: illegal character: '#'\n",
      "## 6. Write a method to validate a string as a valid Java identifier.\n",
      "^\n",
      "Test.java:129: error: illegal character: '#'\n",
      "## 6. Write a method to validate a string as a valid Java identifier.\n",
      " ^\n",
      "Test.java:133: error: class, interface, or enum expected\n",
      "public static void checkIdentifierRequirements(String identifier) {\n",
      "              ^\n",
      "Test.java:139: error: class, interface, or enum expected\n",
      "        if (!(Character.isJavaIdentifierStart(startChar))) {\n",
      "        ^\n",
      "Test.java:141: error: class, interface, or enum expected\n",
      "        }\n",
      "        ^\n",
      "Test.java:145: error: class, interface, or enum expected\n",
      "        for (int i = 1; i < length; i++) {\n",
      "        ^\n",
      "Test.java:145: error: class, interface, or enum expected\n",
      "        for (int i = 1; i < length; i++) {\n",
      "                        ^\n",
      "Test.java:145: error: class, interface, or enum expected\n",
      "        for (int i = 1; i < length; i++) {\n",
      "                                    ^\n",
      "Test.java:147: error: class, interface, or enum expected\n",
      "            if (!(Character.isJavaIdentifierPart(ch))) {\n",
      "            ^\n",
      "Test.java:149: error: class, interface, or enum expected\n",
      "            }\n",
      "            ^\n",
      "Test.java:155: error: illegal character: '#'\n",
      "## 7. Write a method to validate a string as a valid Java identifier.\n",
      "^\n",
      "Test.java:155: error: illegal character: '#'\n",
      "## 7. Write a method to validate a string as a valid Java identifier.\n",
      " ^\n",
      "Test.java:159: error: class, interface, or enum expected\n",
      "public static void checkIdentifierRequirements(String identifier) {\n",
      "              ^\n",
      "Test.java:165: error: class, interface, or enum expected\n",
      "        if (!(Character.isJavaIdentifierStart(startChar))) {\n",
      "        ^\n",
      "Test.java:167: error: class, interface, or enum expected\n",
      "        }\n",
      "        ^\n",
      "Test.java:171: error: class, interface, or enum expected\n",
      "        for (int i = 1; i < length; i++) {\n",
      "        ^\n",
      "Test.java:171: error: class, interface, or enum expected\n",
      "        for (int i = 1; i < length; i++) {\n",
      "                        ^\n",
      "Test.java:171: error: class, interface, or enum expected\n",
      "        for (int i = 1; i < length; i++) {\n",
      "                                    ^\n",
      "Test.java:173: error: class, interface, or enum expected\n",
      "            if (!(Character.isJavaIdentifierPart(ch))) {\n",
      "            ^\n",
      "Test.java:175: error: class, interface, or enum expected\n",
      "            }\n",
      "            ^\n",
      "Test.java:181: error: illegal character: '#'\n",
      "## 8. Write a method to validate a string as a valid Java identifier.\n",
      "^\n",
      "Test.java:181: error: illegal character: '#'\n",
      "## 8. Write a method to validate a string as a valid Java identifier.\n",
      " ^\n",
      "Test.java:185: error: class, interface, or enum expected\n",
      "public static void checkIdentifierRequirements(String identifier) {\n",
      "              ^\n",
      "72 errors\n",
      "\n",
      "Execution Success: False\n"
     ]
    }
   ],
   "source": [
    "result = java_pipeline(generated_text, \"Test\")\n",
    "print(\"Compilation Success:\", result[\"compilation_success\"])\n",
    "if result[\"compilation_error\"]:\n",
    "    print(\"Compilation Error:\", result[\"compilation_error\"])\n",
    "\n",
    "print(\"Execution Success:\", result[\"execution_success\"])\n",
    "if result[\"execution_error\"]:\n",
    "    print(\"Execution Error:\", result[\"execution_error\"])\n",
    "\n",
    "if result[\"output\"]:\n",
    "    print(\"Output:\", result[\"output\"])"
   ]
  },
  {
   "cell_type": "markdown",
   "metadata": {},
   "source": [
    "### Remove Model from Memory"
   ]
  },
  {
   "cell_type": "code",
   "execution_count": 46,
   "metadata": {},
   "outputs": [
    {
     "ename": "NameError",
     "evalue": "name 'starcoder_model' is not defined",
     "output_type": "error",
     "traceback": [
      "\u001b[0;31m---------------------------------------------------------------------------\u001b[0m",
      "\u001b[0;31mNameError\u001b[0m                                 Traceback (most recent call last)",
      "Cell \u001b[0;32mIn[46], line 1\u001b[0m\n\u001b[0;32m----> 1\u001b[0m \u001b[38;5;28;01mdel\u001b[39;00m starcoder_model\n\u001b[1;32m      2\u001b[0m \u001b[38;5;28;01mdel\u001b[39;00m starcoder_tokenizer\n\u001b[1;32m      4\u001b[0m \u001b[38;5;28;01mimport\u001b[39;00m \u001b[38;5;21;01mtorch\u001b[39;00m\n",
      "\u001b[0;31mNameError\u001b[0m: name 'starcoder_model' is not defined"
     ]
    }
   ],
   "source": [
    "del starcoder_model\n",
    "del starcoder_tokenizer\n",
    "\n",
    "import torch\n",
    "torch.cuda.empty_cache()"
   ]
  },
  {
   "cell_type": "markdown",
   "metadata": {},
   "source": [
    "## CodeLlama"
   ]
  },
  {
   "cell_type": "code",
   "execution_count": 27,
   "metadata": {},
   "outputs": [
    {
     "name": "stderr",
     "output_type": "stream",
     "text": [
      "Loading checkpoint shards: 100%|██████████| 2/2 [00:00<00:00,  4.16it/s]\n"
     ]
    }
   ],
   "source": [
    "from transformers import AutoTokenizer, AutoModelForCausalLM\n",
    "import torch\n",
    "\n",
    "model_name = \"codellama/CodeLlama-7b-Instruct-hf\"\n",
    "device = \"cuda:0\"\n",
    "\n",
    "codellama_tokenizer = AutoTokenizer.from_pretrained(model_name)\n",
    "codellama_tokenizer.pad_token = codellama_tokenizer.eos_token\n",
    "\n",
    "codellama_model = AutoModelForCausalLM.from_pretrained(model_name, torch_dtype=\"auto\").to(device)"
   ]
  },
  {
   "cell_type": "markdown",
   "metadata": {},
   "source": [
    "#### Fibonacci Example"
   ]
  },
  {
   "cell_type": "code",
   "execution_count": 53,
   "metadata": {},
   "outputs": [
    {
     "name": "stderr",
     "output_type": "stream",
     "text": [
      "Asking to truncate to max_length but no maximum length is provided and the model has no predefined maximum length. Default to no truncation.\n"
     ]
    }
   ],
   "source": [
    "prompt = \"Create a fibonacci sequence method in Java and write JUnit test cases to verify the code runs and computes correctly.\"#code_test_df[\"prompted_code\"].iloc[7]\n",
    "\n",
    "inputs = codellama_tokenizer(prompt,\n",
    "                             padding=True,\n",
    "                             truncation=True,\n",
    "                             return_tensors=\"pt\")\n",
    "\n",
    "inputs = {key: value.to(device) for key, value in inputs.items()}"
   ]
  },
  {
   "cell_type": "code",
   "execution_count": 54,
   "metadata": {},
   "outputs": [
    {
     "name": "stderr",
     "output_type": "stream",
     "text": [
      "/home/nzappia/.local/lib/python3.10/site-packages/transformers/generation/configuration_utils.py:540: UserWarning: `do_sample` is set to `False`. However, `temperature` is set to `0.7` -- this flag is only used in sample-based generation modes. You should set `do_sample=True` or unset `temperature`.\n",
      "  warnings.warn(\n",
      "The attention mask and the pad token id were not set. As a consequence, you may observe unexpected behavior. Please pass your input's `attention_mask` to obtain reliable results.\n",
      "Setting `pad_token_id` to `eos_token_id`:2 for open-end generation.\n"
     ]
    },
    {
     "name": "stdout",
     "output_type": "stream",
     "text": [
      "Create a fibonacci sequence method in Java and write JUnit test cases to verify the code runs and computes correctly.\n",
      "\n",
      "### Fibonacci Sequence\n",
      "\n",
      "The Fibonacci sequence is a series of numbers where each number is the sum of the two preceding numbers. The sequence starts with 0 and 1, and each subsequent number is the sum of the two preceding numbers.\n",
      "\n",
      "```\n",
      "0, 1, 1, 2, 3, 5, 8, 13, 21, 34, 55, 89, 144, 233, 377, 610, 987, 1597, 2584, 4181, 6765, 10946, 17711, 28657, 46368, 75025, 121393, 196418, 317811, 514229, 832040, 1346269, 2178309, 3524578, 5702887, 9227465, 14930352, 24157817, 39088169, 63245986, 102334155, 165580141, 267914296, 433494437, 701408733, 1134903170, 1836311903, 2971215073, 4807526976, 7778742049, 12586269025, 20365011074, 32951280099, 53316291173, 86267571272, 139583862445, 225851433717, 365435296162, 591286729879, 956722026049, 1548008755920, 2504730781961, 4052739537881, 6597203966401, 10600418121409, 16777216000000\n",
      "```\n",
      "\n",
      "### JUnit Test Cases\n",
      "\n",
      "```\n",
      "@Test\n",
      "public void testFibonacciSequence() {\n",
      "    assertEquals(0, FibonacciSequence.fibonacciSequence(0));\n",
      "    assertEquals(1, FibonacciSequence.fibonacciSequence(1));\n",
      "    assertEquals(1, FibonacciSequence.fibonacciSequence(2));\n",
      "    assertEquals(2, FibonacciSequence.fibonacciSequence(3));\n",
      "    assertEquals(3, FibonacciSequence.fibonacciSequence(4));\n",
      "    assertEquals(5, FibonacciSequence.fibonacciSequence(5));\n",
      "    assertEquals(8, FibonacciSequence.fibonacciSequence(6));\n",
      "    assertEquals(13, FibonacciSequence.fibonacciSequence(7));\n",
      "    assertEquals(21, FibonacciSequence.fibonacciSequence(8));\n",
      "    assertEquals(34, FibonacciSequence.fibonacciSequence(9));\n",
      "    assertEquals(55, FibonacciSequence.fibonacciSequence(10));\n",
      "    assertEquals(89, FibonacciSequence.fibonacciSequence(11));\n",
      "    assertEquals(144, FibonacciSequence.fibonacciSequence(12));\n",
      "    assertEquals(233, Fib\n"
     ]
    }
   ],
   "source": [
    "outputs = codellama_model.generate(\n",
    "    inputs['input_ids'], \n",
    "    max_length=1000,\n",
    "    num_return_sequences=1,\n",
    "    temperature=0.7,\n",
    "    eos_token_id=codellama_tokenizer.eos_token_id\n",
    ")\n",
    "\n",
    "generated_text = codellama_tokenizer.decode(outputs[0], skip_special_tokens=True)\n",
    "print(generated_text)"
   ]
  },
  {
   "cell_type": "markdown",
   "metadata": {},
   "source": [
    "#### Example from Dataset"
   ]
  },
  {
   "cell_type": "code",
   "execution_count": 29,
   "metadata": {},
   "outputs": [
    {
     "name": "stderr",
     "output_type": "stream",
     "text": [
      "Asking to truncate to max_length but no maximum length is provided and the model has no predefined maximum length. Default to no truncation.\n"
     ]
    }
   ],
   "source": [
    "prompt = code_test_df[\"prompted_code\"].iloc[11]\n",
    "\n",
    "inputs = codellama_tokenizer(prompt,\n",
    "                             padding=True,\n",
    "                             truncation=True,\n",
    "                             return_tensors=\"pt\")\n",
    "\n",
    "inputs = {key: value.to(device) for key, value in inputs.items()}"
   ]
  },
  {
   "cell_type": "code",
   "execution_count": 32,
   "metadata": {},
   "outputs": [
    {
     "name": "stderr",
     "output_type": "stream",
     "text": [
      "/media/mujtaba/DATA/nick/miniconda3/envs/UnitTestGeneration/lib/python3.9/site-packages/transformers/generation/configuration_utils.py:601: UserWarning: `do_sample` is set to `False`. However, `temperature` is set to `0.7` -- this flag is only used in sample-based generation modes. You should set `do_sample=True` or unset `temperature`.\n",
      "  warnings.warn(\n",
      "The attention mask and the pad token id were not set. As a consequence, you may observe unexpected behavior. Please pass your input's `attention_mask` to obtain reliable results.\n",
      "Setting `pad_token_id` to `eos_token_id`:None for open-end generation.\n"
     ]
    },
    {
     "name": "stdout",
     "output_type": "stream",
     "text": [
      "package com.java.test;\n",
      "\n",
      "import org.junit.Test;\n",
      "\n",
      "public class IdentifierTest {\n",
      "\n",
      "    @Test\n",
      "    public void testValidIdentifier() {\n",
      "        IdentifierTest.checkIdentifierLetterAndDigitRequirements(\"abc123\");\n",
      "    }\n",
      "\n",
      "    @Test\n",
      "    public void testValidIdentifierWithUnderscore() {\n",
      "        IdentifierTest.checkIdentifierLetterAndDigitRequirements(\"abc_123\");\n",
      "    }\n",
      "\n",
      "    @Test\n",
      "    public void testValidIdentifierWithDollar() {\n",
      "        IdentifierTest.checkIdentifierLetterAndDigitRequirements(\"abc$123\");\n",
      "    }\n",
      "\n",
      "    @Test\n",
      "    public void testInvalidIdentifierWithDigitFirst() {\n",
      "        try {\n",
      "            IdentifierTest.checkIdentifierLetterAndDigitRequirements(\"1abc\");\n",
      "        } catch (IllegalArgumentException e) {\n",
      "            return;\n",
      "        }\n",
      "        throw new AssertionError(\"Expected IllegalArgumentException\");\n",
      "    }\n",
      "\n",
      "    @Test\n",
      "    public void testInvalidIdentifierWithDigit() {\n",
      "        try {\n",
      "            IdentifierTest.checkIdentifierLetterAndDigitRequirements(\"abc1\");\n",
      "        } catch (IllegalArgumentException e) {\n",
      "            return;\n",
      "        }\n",
      "        throw new AssertionError(\"Expected IllegalArgumentException\");\n",
      "    }\n",
      "\n",
      "    @Test\n",
      "    public void testInvalidIdentifierWithSpecialCharacter() {\n",
      "        try {\n",
      "            IdentifierTest.checkIdentifierLetterAndDigitRequirements(\"abc!123\");\n",
      "        } catch (IllegalArgumentException e) {\n",
      "            return;\n",
      "        }\n",
      "        throw new AssertionError(\"Expected IllegalArgumentException\");\n",
      "    }\n",
      "\n",
      "    @Test\n",
      "    public void testInvalidIdentifierWithNull() {\n",
      "        try {\n",
      "            IdentifierTest.checkIdentifierLetterAndDigitRequirements(null);\n",
      "        } catch (IllegalArgumentException e) {\n",
      "            return;\n",
      "        }\n",
      "        throw new AssertionError(\"Expected IllegalArgumentException\");\n",
      "    }\n",
      "\n",
      "    @Test\n",
      "    public void testInvalidIdentifierWithEmptyString() {\n",
      "        try {\n",
      "            IdentifierTest.checkIdentifierLetterAndDigitRequirements(\"\");\n",
      "        } catch (IllegalArgumentException e) {\n",
      "            return;\n",
      "        }\n",
      "        throw new AssertionError(\"Expected IllegalArgumentException\");\n",
      "    }\n",
      "}\n"
     ]
    }
   ],
   "source": [
    "outputs = codellama_model.generate(\n",
    "    inputs['input_ids'], \n",
    "    max_length=2000,\n",
    "    num_return_sequences=1,\n",
    "    temperature=0.7,\n",
    "    eos_token_id=codellama_tokenizer.eos_token_id\n",
    ")\n",
    "\n",
    "generated_text = codellama_tokenizer.decode(outputs[0], skip_special_tokens=True)\n",
    "print(generated_text[len(prompt):].strip())"
   ]
  },
  {
   "cell_type": "code",
   "execution_count": 20,
   "metadata": {},
   "outputs": [
    {
     "data": {
      "text/plain": [
       "torch.bfloat16"
      ]
     },
     "execution_count": 20,
     "metadata": {},
     "output_type": "execute_result"
    }
   ],
   "source": [
    "codellama_model.config.torch_dtype"
   ]
  },
  {
   "cell_type": "code",
   "execution_count": 23,
   "metadata": {},
   "outputs": [],
   "source": [
    "import torch\n",
    "def supports_flash_attention(device_id):\n",
    "    \"\"\"Check if a GPU supports FlashAttention.\"\"\"\n",
    "    major, minor = torch.cuda.get_device_capability(device_id)\n",
    "    \n",
    "    # Check if the GPU architecture is Ampere (SM 8.x) or newer (SM 9.0)\n",
    "    is_sm8x = major == 8 and minor >= 0\n",
    "    is_sm90 = major == 9 and minor == 0\n",
    "\n",
    "    return is_sm8x or is_sm90"
   ]
  },
  {
   "cell_type": "code",
   "execution_count": 40,
   "metadata": {},
   "outputs": [
    {
     "data": {
      "text/plain": [
       "False"
      ]
     },
     "execution_count": 40,
     "metadata": {},
     "output_type": "execute_result"
    }
   ],
   "source": [
    "supports_flash_attention(\"cuda:2\")"
   ]
  },
  {
   "cell_type": "code",
   "execution_count": null,
   "metadata": {},
   "outputs": [],
   "source": [
    "from transformers.generation.utils import GenerationConfig\n",
    "\n",
    "config = codellama_model.config\n",
    "\n",
    "generation_config = GenerationConfig.from_model_config(config)\n",
    "print(config)"
   ]
  },
  {
   "cell_type": "code",
   "execution_count": null,
   "metadata": {},
   "outputs": [],
   "source": [
    "vars(generation_config)"
   ]
  },
  {
   "cell_type": "code",
   "execution_count": 45,
   "metadata": {},
   "outputs": [
    {
     "ename": "NameError",
     "evalue": "name 'codellama_model' is not defined",
     "output_type": "error",
     "traceback": [
      "\u001b[0;31m---------------------------------------------------------------------------\u001b[0m",
      "\u001b[0;31mNameError\u001b[0m                                 Traceback (most recent call last)",
      "Cell \u001b[0;32mIn[45], line 1\u001b[0m\n\u001b[0;32m----> 1\u001b[0m \u001b[38;5;28;01mdel\u001b[39;00m codellama_model\n\u001b[1;32m      2\u001b[0m \u001b[38;5;28;01mdel\u001b[39;00m codellama_tokenizer\n\u001b[1;32m      4\u001b[0m \u001b[38;5;28;01mimport\u001b[39;00m \u001b[38;5;21;01mtorch\u001b[39;00m\n",
      "\u001b[0;31mNameError\u001b[0m: name 'codellama_model' is not defined"
     ]
    }
   ],
   "source": [
    "del codellama_model\n",
    "del codellama_tokenizer\n",
    "\n",
    "import torch\n",
    "torch.cuda.empty_cache()"
   ]
  },
  {
   "cell_type": "markdown",
   "metadata": {},
   "source": [
    "## DeepSeek-Coder"
   ]
  },
  {
   "cell_type": "code",
   "execution_count": 41,
   "metadata": {},
   "outputs": [
    {
     "name": "stderr",
     "output_type": "stream",
     "text": [
      "Loading checkpoint shards: 100%|██████████| 2/2 [00:00<00:00,  3.97it/s]\n"
     ]
    }
   ],
   "source": [
    "from transformers import AutoTokenizer, AutoModelForCausalLM\n",
    "\n",
    "model_name = \"deepseek-ai/deepseek-coder-6.7b-instruct\"\n",
    "device = \"cuda:0\"\n",
    "\n",
    "deepseek_tokenizer = AutoTokenizer.from_pretrained(model_name)\n",
    "deepseek_model = AutoModelForCausalLM.from_pretrained(model_name, torch_dtype=torch.bfloat16).to(device)"
   ]
  },
  {
   "cell_type": "markdown",
   "metadata": {},
   "source": [
    "#### Fibonacci Example"
   ]
  },
  {
   "cell_type": "code",
   "execution_count": 59,
   "metadata": {},
   "outputs": [],
   "source": [
    "prompt = \"Create a fibonacci sequence method in Java and write JUnit test cases to verify the code runs and computes correctly.\"#code_test_df[\"prompted_code\"].iloc[7]\n",
    "\n",
    "inputs = deepseek_tokenizer(prompt,\n",
    "                             padding=True,\n",
    "                             truncation=True,\n",
    "                             return_tensors=\"pt\")\n",
    "\n",
    "inputs = {key: value.to(device) for key, value in inputs.items()}"
   ]
  },
  {
   "cell_type": "code",
   "execution_count": 60,
   "metadata": {},
   "outputs": [
    {
     "name": "stderr",
     "output_type": "stream",
     "text": [
      "The attention mask and the pad token id were not set. As a consequence, you may observe unexpected behavior. Please pass your input's `attention_mask` to obtain reliable results.\n",
      "Setting `pad_token_id` to `eos_token_id`:32021 for open-end generation.\n"
     ]
    },
    {
     "name": "stdout",
     "output_type": "stream",
     "text": [
      "Create a fibonacci sequence method in Java and write JUnit test cases to verify the code runs and computes correctly.\n",
      "\n",
      "\n",
      "```java\n",
      "public class Fibonacci {\n",
      "    public static int fibonacci(int n) {\n",
      "        if (n <= 1) return n;\n",
      "        else return fibonacci(n-1) + fibonacci(n-2);\n",
      "    }\n",
      "}\n",
      "```\n",
      "\n",
      "```java\n",
      "import org.junit.Test;\n",
      "import static org.junit.Assert.*;\n",
      "\n",
      "public class FibonacciTest {\n",
      "    @Test\n",
      "    public void testFibonacci() {\n",
      "        assertEquals(0, Fibonacci.fibonacci(0));\n",
      "        assertEquals(1, Fibonacci.fibonacci(1));\n",
      "        assertEquals(1, Fibonacci.fibonacci(2));\n",
      "        assertEquals(2, Fibonacci.fibonacci(3));\n",
      "        assertEquals(3, Fibonacci.fibonacci(4));\n",
      "        assertEquals(5, Fibonacci.fibonacci(5));\n",
      "        assertEquals(8, Fibonacci.fibonacci(6));\n",
      "        assertEquals(13, Fibonacci.fibonacci(7));\n",
      "    }\n",
      "}\n",
      "```\n",
      "\n",
      "This code will test the fibonacci method with the first few numbers in the fibonacci sequence. The fibonacci method is a recursive method that computes the nth number in the fibonacci sequence. The base case for the recursion is when n is 0 or 1, in which case the method returns n. Otherwise, the method returns the sum of the (n-1)th and (n-2)th numbers in the sequence.\n",
      "\n",
      "The JUnit test cases are written using the `@Test` annotation to indicate that they are test methods. The `assertEquals` method is used to verify that the result of the fibonacci method matches the expected result. If the result does not match the expected result, the test will fail.\n",
      "\n",
      "Please note that this implementation of the fibonacci method has a time complexity of O(2^n) due to the recursive calls. This is not efficient for large values of n. A more efficient implementation would use dynamic programming to store and reuse previously computed values, reducing the time complexity to O(n).\n",
      "\n",
      "Also, the fibonacci sequence grows very quickly, so even for relatively small values of n, the result can be very large. If you're working with very large values of n, you might need to use a BigInteger to store the result.\n",
      "\n",
      "This code is a simple example and does not handle invalid input (negative numbers, non-integer values). In a real-world application, you would want to add error checking to handle such cases.\n",
      "\n",
      "This code is also not optimized for performance. It's a good starting point, but for larger inputs, you might want to consider using a more efficient algorithm or data structure.\n",
      "\n",
      "```java\n",
      "public class Fibonacci {\n",
      "    public static BigInteger fibonacci(int n) {\n",
      "        BigInteger a = BigInteger.ZERO;\n",
      "        BigInteger b = BigInteger.ONE;\n",
      "        BigInteger c = BigInteger.ONE;\n",
      "\n",
      "        if (n <= 1) return a;\n",
      "        if (n == 2) return b;\n",
      "\n",
      "        for (int i = 3; i <= n; i++) {\n",
      "            c = a.add(b);\n",
      "            a = b;\n",
      "            b = c;\n",
      "        }\n",
      "\n",
      "        return c;\n",
      "    }\n",
      "}\n",
      "```\n",
      "\n",
      "This optimized version of the fibonacci method uses a loop to compute the nth number in the fibonacci sequence. It starts with the first two numbers in the sequence (0 and 1), and then iteratively computes the next number as the sum of the previous two. This version has a time complexity of O(n), which is much more efficient for large values of n.\n",
      "\n",
      "The BigInteger class is used to handle very large numbers. The add method is used to add the BigIntegers a and b together.\n",
      "\n",
      "This optimized version of the fibonacci method can handle inputs up to Integer.MAX_VALUE. For larger inputs, you would need to use a BigInteger or a library that supports arbitrary-precision arithmetic.\n",
      "\n",
      "This optimized version of the fibonacci method can be tested with\n"
     ]
    }
   ],
   "source": [
    "outputs = deepseek_model.generate(\n",
    "    inputs['input_ids'], \n",
    "    max_length=1000,\n",
    "    num_return_sequences=1,\n",
    "    temperature=0.7,\n",
    "    eos_token_id=deepseek_tokenizer.eos_token_id\n",
    ")\n",
    "\n",
    "generated_text = deepseek_tokenizer.decode(outputs[0], skip_special_tokens=True)\n",
    "print(generated_text)"
   ]
  },
  {
   "cell_type": "markdown",
   "metadata": {},
   "source": [
    "#### Example from Dataset"
   ]
  },
  {
   "cell_type": "code",
   "execution_count": 42,
   "metadata": {},
   "outputs": [],
   "source": [
    "prompt = code_test_df[\"prompted_code\"].iloc[11]\n",
    "\n",
    "inputs = deepseek_tokenizer(prompt,\n",
    "                             padding=True,\n",
    "                             truncation=True,\n",
    "                             return_tensors=\"pt\")\n",
    "\n",
    "inputs = {key: value.to(device) for key, value in inputs.items()}"
   ]
  },
  {
   "cell_type": "code",
   "execution_count": 43,
   "metadata": {},
   "outputs": [
    {
     "name": "stderr",
     "output_type": "stream",
     "text": [
      "The attention mask and the pad token id were not set. As a consequence, you may observe unexpected behavior. Please pass your input's `attention_mask` to obtain reliable results.\n",
      "Setting `pad_token_id` to `eos_token_id`:None for open-end generation.\n"
     ]
    },
    {
     "name": "stdout",
     "output_type": "stream",
     "text": [
      "Here is a test class in Java:\n",
      "\n",
      "```java\n",
      "import org.junit.Test;\n",
      "import static org.junit.Assert.*;\n",
      "\n",
      "public class IdentifierTest {\n",
      "\n",
      "    @Test\n",
      "    public void testValidIdentifier() {\n",
      "        try {\n",
      "            checkIdentifierLetterAndDigitRequirements(\"_validIdentifier123\");\n",
      "        } catch (IllegalArgumentException e) {\n",
      "            fail(\"Expected no IllegalArgumentException to be thrown\");\n",
      "        }\n",
      "    }\n",
      "\n",
      "    @Test(expected = IllegalArgumentException.class)\n",
      "    public void testInvalidIdentifierStartsWithDigit() {\n",
      "        checkIdentifierLetterAndDigitRequirements(\"123invalidIdentifier\");\n",
      "    }\n",
      "\n",
      "    @Test(expected = IllegalArgumentException.class)\n",
      "    public void testInvalidIdentifierContainsSpecialChar() {\n",
      "        checkIdentifierLetterAndDigitRequirements(\"invalid$Identifier\");\n",
      "    }\n",
      "\n",
      "    @Test(expected = IllegalArgumentException.class)\n",
      "    public void testInvalidIdentifierEmpty() {\n",
      "        checkIdentifierLetterAndDigitRequirements(\"\");\n",
      "    }\n",
      "}\n",
      "```\n",
      "\n",
      "This test class tests the `checkIdentifierLetterAndDigitRequirements` method with valid identifiers, identifiers that start with a digit, identifiers that contain special characters, and an empty string. Each test case should throw an `IllegalArgumentException` if the method is not working as expected.\n",
      "\n",
      "Please note that the `checkIdentifierLetterAndDigitRequirements` method is not defined in this test class. You need to define it in your code.\n",
      "\n",
      "Also, please note that the `checkIdentifierLetterAndDigitRequirements` method is not defined in this test class. You need to define it in your code.\n",
      "\n",
      "This test class uses JUnit 4. If you are using a different testing framework, the syntax and method names may be different.\n",
      "\n",
      "This test class assumes that the `checkIdentifierLetterAndDigitRequirements` method is in the same class as the test class. If it is in a different class, you will need to import it into the test class.\n",
      "\n",
      "This test class does not cover all possible edge cases. You may need to add more test cases to fully test the method.\n",
      "\n",
      "This test class does not cover all possible edge cases. You may need to add more test cases to fully test the method.\n",
      "\n",
      "This test class does not cover all possible edge cases. You may need to add more test cases to fully test the method.\n",
      "\n",
      "This test class does not cover all possible edge cases. You may need to add more test cases to fully test the method.\n",
      "\n",
      "This test class does not cover all possible edge cases. You may need to add more test cases to fully test the method.\n",
      "\n",
      "This test class does not cover all possible edge cases. You may need to add more test cases to fully test the method.\n",
      "\n",
      "This test class does not cover all possible edge cases. You may need to add more test cases to fully test the method.\n",
      "\n",
      "This test class does not cover all possible edge cases. You may need to add more test cases to fully test the method.\n",
      "\n",
      "This test class does not cover all possible edge cases. You may need to add more test cases to fully test the method.\n",
      "\n",
      "This test class does not cover all possible edge cases. You may need to add more test cases to fully test the method.\n",
      "\n",
      "This test class does not cover all possible edge cases. You may need to add more test cases to fully test the method.\n",
      "\n",
      "This test class does not cover all possible edge cases. You may need to add more test cases to fully test the method.\n",
      "\n",
      "This test class does not cover all possible edge cases. You may need to add more test cases to fully test the method.\n",
      "\n",
      "This test class does not cover all possible edge cases. You may need to add more test cases to fully test the method.\n",
      "\n",
      "This test class does not cover all possible edge cases. You may need to add more test cases to fully test the method.\n",
      "\n",
      "This test class does not cover all possible edge cases. You may need to add more test cases to fully test the method.\n",
      "\n",
      "This test class does not cover all possible edge cases. You may need to add more test cases to fully test the method.\n",
      "\n",
      "This test class does not cover all possible edge cases. You may need to add more test cases to fully test the method.\n",
      "\n",
      "This test class does not cover all possible edge cases. You may need to add more test cases to fully test the method.\n",
      "\n",
      "This test class does not cover all possible edge cases. You may need to add more test cases to fully test the method.\n",
      "\n",
      "This test class does not cover all possible edge cases. You may need to add more test cases to fully test the method.\n",
      "\n",
      "This test class does not cover all possible edge cases. You may need to add more test cases to fully test the method.\n",
      "\n",
      "This test class does not cover all possible edge cases. You may need to add more test cases to fully test the method.\n",
      "\n",
      "This test class does not cover all possible edge cases. You may need to add more test cases to fully test the method.\n",
      "\n",
      "This test class does not cover all possible edge cases. You may need to add more test cases to fully test the method.\n",
      "\n",
      "This test class does not cover all possible edge cases. You may need to add more test cases to fully test the method.\n",
      "\n",
      "This test class does not cover all possible edge cases. You may need to add more test cases to fully test the method.\n",
      "\n",
      "This test class does not cover all possible edge cases. You may need to add more test cases to fully test the method.\n",
      "\n",
      "This test class does not cover all possible edge cases. You may need to add more test cases to fully test the method.\n",
      "\n",
      "This test class does not cover all possible edge cases. You may need to add more test cases to fully test the method.\n",
      "\n",
      "This test class does not cover all possible edge cases. You may need to add more test cases to fully test the method.\n",
      "\n",
      "This test class does not cover all possible edge cases. You may need to add more test cases to fully test the method.\n",
      "\n",
      "This test class does not cover all possible edge cases. You may need to add more test cases to fully test the method.\n",
      "\n",
      "This test class does not cover all possible edge cases. You may need to add more test cases to fully test the method.\n",
      "\n",
      "This test class does not cover all possible edge cases. You may need to add more test cases to fully test the method.\n",
      "\n",
      "This test class does not cover all possible edge cases. You may need to add more test cases to fully test the method.\n",
      "\n",
      "This test class does not cover all possible edge cases. You may need to add more test cases to fully test the method.\n",
      "\n",
      "This test class does not cover all possible edge cases. You may need to add more test cases to fully test the method.\n",
      "\n",
      "This test class does not cover all possible edge cases. You may need to add more test cases to fully test the method.\n",
      "\n",
      "This test class does not cover all possible edge cases. You may need to add more test cases to fully test the method.\n",
      "\n",
      "This test class does not cover all possible edge cases. You may need to add more test cases to fully test the method.\n",
      "\n",
      "This test class does not cover all possible edge cases. You may need to add more test cases to fully test the method.\n",
      "\n",
      "This test class does not cover all possible edge cases. You may need to add more test cases to fully test the method.\n",
      "\n",
      "This test class does not cover all possible edge cases. You may need to add more test cases to fully test the method.\n",
      "\n",
      "This test class does not cover all possible edge cases. You may need to add more test cases to fully test the method.\n",
      "\n",
      "This test class does not cover all possible edge cases. You may need to add more test cases to fully test the method.\n",
      "\n",
      "This test class does not cover all possible edge cases. You may need to add\n"
     ]
    }
   ],
   "source": [
    "outputs = deepseek_model.generate(\n",
    "    inputs['input_ids'], \n",
    "    max_length=2000,\n",
    "    num_return_sequences=1,\n",
    "    temperature=0.7,\n",
    "    eos_token_id=deepseek_tokenizer.eos_token_id\n",
    ")\n",
    "\n",
    "generated_text = deepseek_tokenizer.decode(outputs[0], skip_special_tokens=True)\n",
    "print(generated_text[len(prompt):].strip())"
   ]
  },
  {
   "cell_type": "code",
   "execution_count": 44,
   "metadata": {},
   "outputs": [],
   "source": [
    "del deepseek_model\n",
    "del deepseek_tokenizer\n",
    "\n",
    "import torch\n",
    "torch.cuda.empty_cache()"
   ]
  }
 ],
 "metadata": {
  "kernelspec": {
   "display_name": "UnitTestGeneration",
   "language": "python",
   "name": "python3"
  },
  "language_info": {
   "codemirror_mode": {
    "name": "ipython",
    "version": 3
   },
   "file_extension": ".py",
   "mimetype": "text/x-python",
   "name": "python",
   "nbconvert_exporter": "python",
   "pygments_lexer": "ipython3",
   "version": "3.12.8"
  }
 },
 "nbformat": 4,
 "nbformat_minor": 2
}
