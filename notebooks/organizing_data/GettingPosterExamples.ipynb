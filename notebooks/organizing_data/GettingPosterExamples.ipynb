{
 "cells": [
  {
   "cell_type": "markdown",
   "id": "df78a8da",
   "metadata": {},
   "source": [
    "## Getting a Few-shot and No-shot example"
   ]
  },
  {
   "cell_type": "code",
   "execution_count": 1,
   "id": "e09a067f",
   "metadata": {},
   "outputs": [],
   "source": [
    "import pandas as pd\n",
    "\n",
    "few_shot_df = pd.read_csv(\"/media/mujtaba/DATA/nick/UnitTestExamples/data/prompts/humanevalx/few_shot_first_prompts.csv\")\n",
    "zero_shot_df = pd.read_csv(\"/media/mujtaba/DATA/nick/UnitTestExamples/data/prompts/humanevalx/zero_shot_first_prompts.csv\")"
   ]
  },
  {
   "cell_type": "code",
   "execution_count": 5,
   "id": "175a44a5",
   "metadata": {},
   "outputs": [
    {
     "name": "stdout",
     "output_type": "stream",
     "text": [
      "//Source method\n",
      "import java.util.*;\n",
      "import java.lang.*;\n",
      "\n",
      "class Solution {\n",
      "    public double triangleArea(double a, double h) {\n",
      "        return a * h / 2;\n",
      "    }\n",
      "}\n",
      "\n",
      "//Unit Test Cases\n",
      "public class Main {\n",
      "    public static void main(String[] args) {\n",
      "        Solution s = new Solution();\n",
      "        List<Boolean> correct = Arrays.asList(\n",
      "                s.triangleArea(5, 3) == 7.5,\n",
      "                s.triangleArea(2, 2) == 2.0,\n",
      "                s.triangleArea(10, 8) == 40.0\n",
      "        );\n",
      "        if (correct.contains(false)) {\n",
      "            throw new AssertionError();\n",
      "        }\n",
      "    }\n",
      "}\n",
      "\n",
      "\n",
      "//Source method\n",
      "import java.util.*;\n",
      "import java.lang.*;\n",
      "\n",
      "class Solution {\n",
      "    public boolean hasCloseElements(List<Double> numbers, double threshold) {\n",
      "        for (int i = 0; i < numbers.size(); i++) {\n",
      "            for (int j = i + 1; j < numbers.size(); j++) {\n",
      "                double distance = Math.abs(numbers.get(i) - numbers.get(j));\n",
      "                if (distance < threshold) return true;\n",
      "            }\n",
      "        }\n",
      "        return false;\n",
      "    }\n",
      "}\n",
      "\n",
      "//Unit Test Cases\n",
      "public class Main {\n",
      "        public static void main(String[] args) {\n",
      "\n",
      "\n",
      "//Source method\n",
      "import java.util.*;\n",
      "import java.lang.*;\n",
      "\n",
      "class Solution {\n",
      "    public boolean hasCloseElements(List<Double> numbers, double threshold) {\n",
      "        for (int i = 0; i < numbers.size(); i++) {\n",
      "            for (int j = i + 1; j < numbers.size(); j++) {\n",
      "                double distance = Math.abs(numbers.get(i) - numbers.get(j));\n",
      "                if (distance < threshold) return true;\n",
      "            }\n",
      "        }\n",
      "        return false;\n",
      "    }\n",
      "}\n",
      "\n",
      "//Unit Test Cases\n",
      "public class Main {\n",
      "        public static void main(String[] args) {\n"
     ]
    }
   ],
   "source": [
    "print(few_shot_df.iloc[0]['0'] + '\\n\\n')\n",
    "print(zero_shot_df.iloc[0]['0'])"
   ]
  }
 ],
 "metadata": {
  "kernelspec": {
   "display_name": "UnitTestGeneration",
   "language": "python",
   "name": "python3"
  },
  "language_info": {
   "codemirror_mode": {
    "name": "ipython",
    "version": 3
   },
   "file_extension": ".py",
   "mimetype": "text/x-python",
   "name": "python",
   "nbconvert_exporter": "python",
   "pygments_lexer": "ipython3",
   "version": "3.9.21"
  }
 },
 "nbformat": 4,
 "nbformat_minor": 5
}
