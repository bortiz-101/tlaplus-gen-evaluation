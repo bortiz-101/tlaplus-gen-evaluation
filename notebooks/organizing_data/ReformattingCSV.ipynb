{
 "cells": [
  {
   "cell_type": "markdown",
   "metadata": {},
   "source": [
    "### Reformatting All CSVs"
   ]
  },
  {
   "cell_type": "code",
   "execution_count": 14,
   "metadata": {},
   "outputs": [],
   "source": [
    "import pandas as pd\n",
    "import re\n",
    "\n",
    "def reformat(file):\n",
    "    # Step 1: Load the raw contents from the file\n",
    "    with open(file, 'r', encoding='utf-8') as f:\n",
    "        raw_text = f.read()\n",
    "\n",
    "    # Step 2: Split on the marker for a new code example\n",
    "    # We'll use a regex lookahead to keep the split marker (//Source method) with each example\n",
    "    examples = re.split(r'(?=\"\\/\\/Source method)', raw_text)\n",
    "\n",
    "    # Step 3: Clean up examples\n",
    "    cleaned_examples = [ex.strip().strip('\"') for ex in examples if ex.strip()]\n",
    "\n",
    "    # Step 4: Save to a DataFrame\n",
    "    df = pd.DataFrame(cleaned_examples, columns=['code'])\n",
    "\n",
    "    # Optional: save it back to a safe CSV format with full quoting\n",
    "    df.to_csv(f'{file[:-13]}responses_reformatted.csv', index=False, quoting=1)  # quoting=1 means quote all"
   ]
  },
  {
   "cell_type": "code",
   "execution_count": 15,
   "metadata": {},
   "outputs": [
    {
     "name": "stdout",
     "output_type": "stream",
     "text": [
      "['/media/mujtaba/DATA/nick/UnitTestExamples/data/results/codet5-base__zero_shot_first_prompts/responses.csv', '/media/mujtaba/DATA/nick/UnitTestExamples/data/results/codet5p-2b__few_shot_first_prompts/responses.csv', '/media/mujtaba/DATA/nick/UnitTestExamples/data/results/codet5p-2b__zero_shot_first_prompts/responses.csv', '/media/mujtaba/DATA/nick/UnitTestExamples/data/results/CodeLlama-7b-Instruct-hf__few_shot_first_prompts/responses.csv', '/media/mujtaba/DATA/nick/UnitTestExamples/data/results/starcoder2-3b__few_shot_first_prompts/responses.csv', '/media/mujtaba/DATA/nick/UnitTestExamples/data/results/CodeLlama-7b-Instruct-hf__zero_shot_first_prompts/responses.csv', '/media/mujtaba/DATA/nick/UnitTestExamples/data/results/starcoder2-3b__zero_shot_first_prompts/responses.csv', '/media/mujtaba/DATA/nick/UnitTestExamples/data/results/codet5-base__few_shot_first_prompts/responses.csv']\n"
     ]
    }
   ],
   "source": [
    "files = []\n",
    "\n",
    "import os\n",
    "\n",
    "for file in os.listdir(\"/media/mujtaba/DATA/nick/UnitTestExamples/data/results\"):\n",
    "    files.append('/' + file)\n",
    "\n",
    "files = [\"/media/mujtaba/DATA/nick/UnitTestExamples/data/results\" + file + '/responses.csv' for file in files]\n",
    "print(files)\n",
    "for file in files:\n",
    "    reformat(file)"
   ]
  },
  {
   "cell_type": "markdown",
   "metadata": {},
   "source": [
    "### Checking Loading"
   ]
  },
  {
   "cell_type": "code",
   "execution_count": 23,
   "metadata": {},
   "outputs": [
    {
     "data": {
      "text/plain": [
       "code    0\n",
       "Name: 0, dtype: object"
      ]
     },
     "execution_count": 23,
     "metadata": {},
     "output_type": "execute_result"
    }
   ],
   "source": [
    "df = pd.read_csv('/media/mujtaba/DATA/nick/UnitTestExamples/data/results/starcoder2-3b__zero_shot_first_prompts/responses_reformatted.csv', quoting=1)\n",
    "df.iloc[0]"
   ]
  },
  {
   "cell_type": "markdown",
   "metadata": {},
   "source": [
    "### Altering for CodeT5p"
   ]
  },
  {
   "cell_type": "code",
   "execution_count": 25,
   "metadata": {},
   "outputs": [],
   "source": [
    "import pandas as pd\n",
    "import re\n",
    "\n",
    "def reformat_codet5p(file):\n",
    "    # Load raw text from your file\n",
    "    with open('raw_code_file.csv', 'r', encoding='utf-8') as f:\n",
    "        raw_text = f.read()\n",
    "    \n",
    "    # Use regex to split between closing quote + newline + opening quote\n",
    "    # This pattern: quote, newline(s), then quote\n",
    "    examples = re.split(r'\"\\s*\\n\\s*\"', raw_text)\n",
    "    \n",
    "    # Clean leading/trailing quotes and whitespace\n",
    "    cleaned_examples = [ex.strip().strip('\"') for ex in examples if ex.strip()]\n",
    "    \n",
    "    # Step 4: Save to a DataFrame\n",
    "    df = pd.DataFrame(cleaned_examples, columns=['code'])\n",
    "\n",
    "    # Optional: save it back to a safe CSV format with full quoting\n",
    "    df.to_csv(f'{file[:-13]}responses_reformatted.csv', index=False, quoting=1)\n"
   ]
  },
  {
   "cell_type": "code",
   "execution_count": 26,
   "metadata": {},
   "outputs": [
    {
     "name": "stdout",
     "output_type": "stream",
     "text": [
      "['/media/mujtaba/DATA/nick/UnitTestExamples/data/results/codet5p-2b__few_shot_first_prompts/responses.csv', '/media/mujtaba/DATA/nick/UnitTestExamples/data/results/codet5p-2b__zero_shot_first_prompts/responses.csv']\n"
     ]
    }
   ],
   "source": [
    "files = []\n",
    "\n",
    "import os\n",
    "\n",
    "for file in os.listdir(\"/media/mujtaba/DATA/nick/UnitTestExamples/data/results\"):\n",
    "    if \"codet5p\" in file:\n",
    "        files.append('/' + file)\n",
    "\n",
    "files = [\"/media/mujtaba/DATA/nick/UnitTestExamples/data/results\" + file + '/responses.csv' for file in files]\n",
    "print(files)\n",
    "for file in files:\n",
    "    reformat(file)"
   ]
  },
  {
   "cell_type": "code",
   "execution_count": null,
   "metadata": {},
   "outputs": [
    {
     "data": {
      "text/plain": [
       "1"
      ]
     },
     "execution_count": 28,
     "metadata": {},
     "output_type": "execute_result"
    }
   ],
   "source": [
    "df = pd.read_csv(\"/media/mujtaba/DATA/nick/UnitTestExamples/data/results/codet5p-2b__few_shot_first_prompts/responses_reformatted.csv\", quoting=1)"
   ]
  }
 ],
 "metadata": {
  "kernelspec": {
   "display_name": "UnitTestGeneration",
   "language": "python",
   "name": "python3"
  },
  "language_info": {
   "codemirror_mode": {
    "name": "ipython",
    "version": 3
   },
   "file_extension": ".py",
   "mimetype": "text/x-python",
   "name": "python",
   "nbconvert_exporter": "python",
   "pygments_lexer": "ipython3",
   "version": "3.9.21"
  }
 },
 "nbformat": 4,
 "nbformat_minor": 2
}
