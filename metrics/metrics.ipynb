{
 "cells": [
  {
   "cell_type": "markdown",
   "metadata": {},
   "source": [
    "#### Sample code to Use"
   ]
  },
  {
   "cell_type": "code",
   "execution_count": 12,
   "metadata": {},
   "outputs": [
    {
     "name": "stdout",
     "output_type": "stream",
     "text": [
      "breaking\n"
     ]
    }
   ],
   "source": [
    "import os\n",
    "import json\n",
    "import pandas as pd\n",
    "from glob import glob\n",
    "import numpy\n",
    "\n",
    "data = []\n",
    "\n",
    "total_exmaples = 0\n",
    "\n",
    "is_broken = False\n",
    "base_dir = '../../data/methods2test_data/train'\n",
    "# Iterate over all subdirectories (examples) in the base directory\n",
    "for example_dir in os.listdir(base_dir):\n",
    "    example_path = os.path.join(base_dir, example_dir)\n",
    "    \n",
    "    if os.path.isdir(example_path):\n",
    "\n",
    "        json_files = glob(os.path.join(example_path, '*.json'))\n",
    "        \n",
    "        for json_file in json_files:\n",
    "\n",
    "            with open(json_file, 'r') as f:\n",
    "                json_data = json.load(f)\n",
    "            \n",
    "            data.append(json_data)\n",
    "\n",
    "            total_exmaples+=1\n",
    "\n",
    "            if(total_exmaples>=100):\n",
    "                print(\"breaking\")\n",
    "                is_broken = True\n",
    "                break\n",
    "    if(is_broken):\n",
    "        break\n",
    "\n",
    "df = pd.DataFrame(data)\n"
   ]
  },
  {
   "cell_type": "code",
   "execution_count": 16,
   "metadata": {},
   "outputs": [
    {
     "data": {
      "text/plain": [
       "{'identifier': 'SourceCodeWriter',\n",
       " 'superclass': '',\n",
       " 'interfaces': '',\n",
       " 'fields': [{'original_string': 'public static final String TEMPLATE_CLASS = \"class.vm\";',\n",
       "   'modifier': 'public static final',\n",
       "   'type': 'String',\n",
       "   'declarator': 'TEMPLATE_CLASS = \"class.vm\"',\n",
       "   'var_name': 'TEMPLATE_CLASS'},\n",
       "  {'original_string': 'private static Logger log = LoggerFactory.getLogger(SourceCodeWriter.class);',\n",
       "   'modifier': 'private static',\n",
       "   'type': 'Logger',\n",
       "   'declarator': 'log = LoggerFactory.getLogger(SourceCodeWriter.class)',\n",
       "   'var_name': 'log'},\n",
       "  {'original_string': 'private final JModel jm;',\n",
       "   'modifier': 'private final',\n",
       "   'type': 'JModel',\n",
       "   'declarator': 'jm',\n",
       "   'var_name': 'jm'},\n",
       "  {'original_string': 'private final String methodnamePrefix;',\n",
       "   'modifier': 'private final',\n",
       "   'type': 'String',\n",
       "   'declarator': 'methodnamePrefix',\n",
       "   'var_name': 'methodnamePrefix'},\n",
       "  {'original_string': 'private final Calendar now;',\n",
       "   'modifier': 'private final',\n",
       "   'type': 'Calendar',\n",
       "   'declarator': 'now',\n",
       "   'var_name': 'now'},\n",
       "  {'original_string': 'private final File outdir;',\n",
       "   'modifier': 'private final',\n",
       "   'type': 'File',\n",
       "   'declarator': 'outdir',\n",
       "   'var_name': 'outdir'},\n",
       "  {'original_string': 'private Template template;',\n",
       "   'modifier': 'private',\n",
       "   'type': 'Template',\n",
       "   'declarator': 'template',\n",
       "   'var_name': 'template'},\n",
       "  {'original_string': 'private final String templateName;',\n",
       "   'modifier': 'private final',\n",
       "   'type': 'String',\n",
       "   'declarator': 'templateName',\n",
       "   'var_name': 'templateName'},\n",
       "  {'original_string': 'private VelocityContext velocityContext = null;',\n",
       "   'modifier': 'private',\n",
       "   'type': 'VelocityContext',\n",
       "   'declarator': 'velocityContext = null',\n",
       "   'var_name': 'velocityContext'},\n",
       "  {'original_string': 'private VelocityEngine velocityEngine = null;',\n",
       "   'modifier': 'private',\n",
       "   'type': 'VelocityEngine',\n",
       "   'declarator': 'velocityEngine = null',\n",
       "   'var_name': 'velocityEngine'}],\n",
       " 'methods': [{'identifier': 'memreport',\n",
       "   'parameters': '()',\n",
       "   'modifiers': 'public static',\n",
       "   'return': 'String',\n",
       "   'signature': 'String memreport()',\n",
       "   'full_signature': 'public static String memreport()',\n",
       "   'class_method_signature': 'SourceCodeWriter.memreport()',\n",
       "   'testcase': False,\n",
       "   'constructor': False},\n",
       "  {'identifier': 'write',\n",
       "   'parameters': '(JModel jm, File outdir, String methodnamePrefix)',\n",
       "   'modifiers': 'public static',\n",
       "   'return': 'void',\n",
       "   'signature': 'void write(JModel jm, File outdir, String methodnamePrefix)',\n",
       "   'full_signature': 'public static void write(JModel jm, File outdir, String methodnamePrefix)',\n",
       "   'class_method_signature': 'SourceCodeWriter.write(JModel jm, File outdir, String methodnamePrefix)',\n",
       "   'testcase': False,\n",
       "   'constructor': False},\n",
       "  {'identifier': 'write',\n",
       "   'parameters': '(JModel jm, File outdir, String templateName, String methodnamePrefix)',\n",
       "   'modifiers': 'public static',\n",
       "   'return': 'void',\n",
       "   'signature': 'void write(JModel jm, File outdir, String templateName, String methodnamePrefix)',\n",
       "   'full_signature': 'public static void write(JModel jm, File outdir, String templateName, String methodnamePrefix)',\n",
       "   'class_method_signature': 'SourceCodeWriter.write(JModel jm, File outdir, String templateName, String methodnamePrefix)',\n",
       "   'testcase': False,\n",
       "   'constructor': False},\n",
       "  {'identifier': 'SourceCodeWriter',\n",
       "   'parameters': '(JModel jm, String methodnamePrefix, Calendar now, String templateName,\\n            File outdir)',\n",
       "   'modifiers': 'public',\n",
       "   'return': '',\n",
       "   'signature': ' SourceCodeWriter(JModel jm, String methodnamePrefix, Calendar now, String templateName,\\n            File outdir)',\n",
       "   'full_signature': 'public  SourceCodeWriter(JModel jm, String methodnamePrefix, Calendar now, String templateName,\\n            File outdir)',\n",
       "   'class_method_signature': 'SourceCodeWriter.SourceCodeWriter(JModel jm, String methodnamePrefix, Calendar now, String templateName,\\n            File outdir)',\n",
       "   'testcase': False,\n",
       "   'constructor': True},\n",
       "  {'identifier': 'initContext',\n",
       "   'parameters': '()',\n",
       "   'modifiers': 'private',\n",
       "   'return': 'void',\n",
       "   'signature': 'void initContext()',\n",
       "   'full_signature': 'private void initContext()',\n",
       "   'class_method_signature': 'SourceCodeWriter.initContext()',\n",
       "   'testcase': False,\n",
       "   'constructor': False},\n",
       "  {'identifier': 'initEngine',\n",
       "   'parameters': '()',\n",
       "   'modifiers': 'private',\n",
       "   'return': 'void',\n",
       "   'signature': 'void initEngine()',\n",
       "   'full_signature': 'private void initEngine()',\n",
       "   'class_method_signature': 'SourceCodeWriter.initEngine()',\n",
       "   'testcase': False,\n",
       "   'constructor': False},\n",
       "  {'identifier': 'initTemplate',\n",
       "   'parameters': '()',\n",
       "   'modifiers': 'private',\n",
       "   'return': 'void',\n",
       "   'signature': 'void initTemplate()',\n",
       "   'full_signature': 'private void initTemplate()',\n",
       "   'class_method_signature': 'SourceCodeWriter.initTemplate()',\n",
       "   'testcase': False,\n",
       "   'constructor': False},\n",
       "  {'identifier': 'writeModel',\n",
       "   'parameters': '()',\n",
       "   'modifiers': 'private',\n",
       "   'return': 'void',\n",
       "   'signature': 'void writeModel()',\n",
       "   'full_signature': 'private void writeModel()',\n",
       "   'class_method_signature': 'SourceCodeWriter.writeModel()',\n",
       "   'testcase': False,\n",
       "   'constructor': False},\n",
       "  {'identifier': 'writeClass',\n",
       "   'parameters': '(JPackage jp, JClass jc, File packageOutdir)',\n",
       "   'modifiers': 'private',\n",
       "   'return': 'void',\n",
       "   'signature': 'void writeClass(JPackage jp, JClass jc, File packageOutdir)',\n",
       "   'full_signature': 'private void writeClass(JPackage jp, JClass jc, File packageOutdir)',\n",
       "   'class_method_signature': 'SourceCodeWriter.writeClass(JPackage jp, JClass jc, File packageOutdir)',\n",
       "   'testcase': False,\n",
       "   'constructor': False},\n",
       "  {'identifier': 'writePackage',\n",
       "   'parameters': '(JPackage jp)',\n",
       "   'modifiers': 'private',\n",
       "   'return': 'void',\n",
       "   'signature': 'void writePackage(JPackage jp)',\n",
       "   'full_signature': 'private void writePackage(JPackage jp)',\n",
       "   'class_method_signature': 'SourceCodeWriter.writePackage(JPackage jp)',\n",
       "   'testcase': False,\n",
       "   'constructor': False}],\n",
       " 'file': 'org.semweb4j.rdfreactor.generator/src/main/java/org/ontoware/rdfreactor/generator/SourceCodeWriter.java'}"
      ]
     },
     "execution_count": 16,
     "metadata": {},
     "output_type": "execute_result"
    }
   ],
   "source": [
    "df.iloc[0]['focal_class']"
   ]
  },
  {
   "cell_type": "markdown",
   "metadata": {},
   "source": [
    "## CSR\n",
    "* Get generated code into a file\n",
    "* Attempt to compile the file when formatted correctly\n",
    "* 1 for successful compilation, 0 for unsuccessful"
   ]
  },
  {
   "cell_type": "code",
   "execution_count": null,
   "metadata": {},
   "outputs": [
    {
     "name": "stdout",
     "output_type": "stream",
     "text": [
      "Compilation successful: TestProgram.class generated.\n",
      "Compilation status: Success\n",
      "True\n"
     ]
    }
   ],
   "source": [
    "import subprocess\n",
    "import os\n",
    "\n",
    "def compile_java(java_code, class_name=\"TestProgram\"):\n",
    "    \"\"\"\n",
    "    Writes Java code to a file, compiles it, and returns whether compilation was successful.\n",
    "\n",
    "    Parameters:\n",
    "    java_code (str): The Java code as a string.\n",
    "    class_name (str): The name of the Java class (must match the class name in the code).\n",
    "\n",
    "    Returns:\n",
    "    bool: True if compilation was successful, False otherwise.\n",
    "    \"\"\"\n",
    "    java_filename = f\"{class_name}.java\"\n",
    "\n",
    "    # Write the Java code to a file\n",
    "    with open(java_filename, \"w\") as java_file:\n",
    "        java_file.write(java_code)\n",
    "\n",
    "    # Compile the Java file\n",
    "    compile_process = subprocess.run([\"javac\", java_filename], stdout=subprocess.PIPE, stderr=subprocess.PIPE)\n",
    "\n",
    "    # Check compilation success\n",
    "    if compile_process.returncode == 0:\n",
    "        print(f\"Compilation successful: {class_name}.class generated.\")\n",
    "        return True\n",
    "    else:\n",
    "        print(f\"Compilation failed:\\n{compile_process.stderr.decode()}\")\n",
    "        return False\n",
    "\n",
    "# INSERT TEST CODE BELOW\n",
    "java_code_example = \"\"\"\n",
    "public class TestProgram {\n",
    "    public static void main(String[] args) {\n",
    "        System.out.println(\"Hello, World!\");\n",
    "    }\n",
    "}\n",
    "\"\"\"\n",
    "\n",
    "# Run the compilation\n",
    "if __name__ == \"__main__\":\n",
    "    success = compile_java(java_code_example)\n",
    "    print(\"Compilation status:\", \"Success\" if success else \"Failed\")\n"
   ]
  },
  {
   "cell_type": "markdown",
   "metadata": {},
   "source": [
    "## RSR\n",
    "* Compile the code\n",
    "* Run the code\n",
    "* Return whether the code ran successfully"
   ]
  },
  {
   "cell_type": "code",
   "execution_count": 10,
   "metadata": {},
   "outputs": [
    {
     "name": "stdout",
     "output_type": "stream",
     "text": [
      "Success: True\n",
      "Output: Hello, Java from Python!\n"
     ]
    }
   ],
   "source": [
    "import subprocess\n",
    "import os\n",
    "\n",
    "def run_java_code(java_code, class_name=\"TestProgram\"):\n",
    "    \"\"\"\n",
    "    Writes Java code to a file, compiles it, and runs it.\n",
    "\n",
    "    Parameters:\n",
    "    java_code (str): The Java code as a string.\n",
    "    class_name (str): The name of the Java class (must match the class name in the code).\n",
    "\n",
    "    Returns:\n",
    "    tuple: (success, output) where success is True/False and output contains stdout or error message.\n",
    "    \"\"\"\n",
    "    java_filename = f\"{class_name}.java\"\n",
    "    class_filename = f\"{class_name}.class\"\n",
    "\n",
    "    try:\n",
    "        # Write Java code to a file\n",
    "        with open(java_filename, \"w\") as java_file:\n",
    "            java_file.write(java_code)\n",
    "\n",
    "        # Compile the Java file\n",
    "        compile_process = subprocess.run([\"javac\", java_filename], stdout=subprocess.PIPE, stderr=subprocess.PIPE, text=True)\n",
    "\n",
    "        # Check if compilation was successful\n",
    "        if compile_process.returncode != 0:\n",
    "            return False, f\"Compilation failed:\\n{compile_process.stderr}\"\n",
    "\n",
    "        # Run the compiled Java program\n",
    "        run_process = subprocess.run([\"java\", class_name], stdout=subprocess.PIPE, stderr=subprocess.PIPE, text=True)\n",
    "\n",
    "        if run_process.returncode == 0:\n",
    "            return True, run_process.stdout.strip()\n",
    "        else:\n",
    "            return False, f\"Execution failed:\\n{run_process.stderr}\"\n",
    "\n",
    "    finally:\n",
    "        # Clean up generated files\n",
    "        if os.path.exists(java_filename):\n",
    "            os.remove(java_filename)\n",
    "        if os.path.exists(class_filename):\n",
    "            os.remove(class_filename)\n",
    "\n",
    "# Example Java code to test\n",
    "java_code_example = \"\"\"\n",
    "public class TestProgram {\n",
    "    public static void main(String[] args) {\n",
    "        System.out.println(\"Hello, Java from Python!\");\n",
    "    }\n",
    "}\n",
    "\"\"\"\n",
    "\n",
    "# Run the function and print results\n",
    "success, output = run_java_code(java_code_example)\n",
    "print(\"Success:\", success)\n",
    "print(\"Output:\", output)\n"
   ]
  },
  {
   "cell_type": "markdown",
   "metadata": {},
   "source": [
    "## CodeBLEU\n",
    "* Different considerations rather than simple n-gram matching (BLEU)\n",
    "    * Weighted N-Gram Matching\n",
    "    * Syntactic AST Match\n",
    "    * Semantic Data-flow Match"
   ]
  },
  {
   "cell_type": "code",
   "execution_count": 4,
   "metadata": {},
   "outputs": [
    {
     "name": "stdout",
     "output_type": "stream",
     "text": [
      "BLEU: 61.08 ; Acc: 50.0\n"
     ]
    },
    {
     "data": {
      "text/plain": [
       "CompletedProcess(args=['python3', '../../CodeXGLUE/Code-Code/code-to-code-trans/evaluator/evaluator.py', '-ref', '../../CodeXGLUE/Code-Code/code-to-code-trans/evaluator/references.txt', '-pre', '../../CodeXGLUE/Code-Code/code-to-code-trans/evaluator/predictions.txt'], returncode=0)"
      ]
     },
     "execution_count": 4,
     "metadata": {},
     "output_type": "execute_result"
    }
   ],
   "source": [
    "import os\n",
    "import subprocess\n",
    "\n",
    "subprocess.run([\"python3\", \"../../CodeXGLUE/Code-Code/code-to-code-trans/evaluator/evaluator.py\", \"-ref\", \"../../CodeXGLUE/Code-Code/code-to-code-trans/evaluator/references.txt\", \"-pre\", \"../../CodeXGLUE/Code-Code/code-to-code-trans/evaluator/predictions.txt\"])"
   ]
  },
  {
   "cell_type": "markdown",
   "metadata": {},
   "source": [
    "## EM (Exact Match)\n",
    "* Purely Matching whether all characters match\n",
    "* Key things to think about:\n",
    "    * Removing white space\n",
    "    * Cleaning output for direct comparison\n",
    "    * Simple string comparison works perfectly"
   ]
  },
  {
   "cell_type": "code",
   "execution_count": 3,
   "metadata": {},
   "outputs": [
    {
     "data": {
      "text/plain": [
       "True"
      ]
     },
     "execution_count": 3,
     "metadata": {},
     "output_type": "execute_result"
    }
   ],
   "source": [
    "def exact_match(prediction, reference):\n",
    "    prediction = prediction.strip()\n",
    "    reference = reference.strip()\n",
    "\n",
    "    # OTHER CLEANING GOES HERE FOR EACH OUTPUT\n",
    "\n",
    "    return prediction == reference\n",
    "\n",
    "output = \"def main():\\n\\tprint('Hello World')\"\n",
    "target = \"def main():\\n\\tprint('Hello World')\"\n",
    "\n",
    "exact_match(output, target)"
   ]
  },
  {
   "cell_type": "markdown",
   "metadata": {},
   "source": [
    "## Acc@10 (Any top 10 generations exactly match)\n",
    "* Model needs to generation 10 responses for each example\n",
    "* Iterate through all 10 example for comparison\n",
    "* Use same logic as EM"
   ]
  },
  {
   "cell_type": "code",
   "execution_count": null,
   "metadata": {},
   "outputs": [],
   "source": [
    "def acc_at_10(predictions, reference):\n",
    "    for prediction in predictions:\n",
    "        prediction = prediction.strip()\n",
    "        print(prediction)\n",
    "\n",
    "    reference = reference.strip()\n",
    "\n",
    "    # OTHER CLEANING GOES HERE FOR EACH OUTPUT\n",
    "\n",
    "    for prediction in predictions:\n",
    "        if prediction==reference:\n",
    "            return True\n",
    "    return False\n",
    "\n",
    "predictions = [\"def hello_world:\\n\\tprint('Hello, World!')\", \"def hello_world:\\n\\tprint('Hello, World)\", \"def hello_world:\\n\\tprint('Hello, World!\\\")\", \"def hello_world:\\n\\tprint('Hello, World!)\", \"def hello_world:\\n\\tprint('Hello, World!)\", \"def hello_world:\\n\\tprint(\\\"Hello, World!\\\")\", \"def print_hello_world:\\n\\tprint('Hello, World!)\", \"def helloworld:\\n\\tprint('Hello, World!)\", \"def hello_world:\\n\\tprint('Hello, World)\", \"def hello_world:\\n\\tprint('Hello World!)\"] \n",
    "reference = \"def hello_world:\\n\\tprint('Hello, World!')\"   "
   ]
  },
  {
   "cell_type": "markdown",
   "metadata": {},
   "source": [
    "## Edit Similarity (Levenshtein Edit Distance)"
   ]
  },
  {
   "cell_type": "code",
   "execution_count": 9,
   "metadata": {},
   "outputs": [
    {
     "name": "stdout",
     "output_type": "stream",
     "text": [
      "The Levenshtein distance between 'kitten' and 'sitting' is 3.\n",
      "-2\n"
     ]
    }
   ],
   "source": [
    "import Levenshtein\n",
    "\n",
    "def levenshtein_distance(str1, str2):\n",
    "    return Levenshtein.distance(str1, str2)\n",
    "\n",
    "# Example usage\n",
    "str1 = \"kitten\"\n",
    "str2 = \"sitting\"\n",
    "distance = levenshtein_distance(str1, str2)\n",
    "print(f\"The Levenshtein distance between '{str1}' and '{str2}' is {distance}.\")\n",
    "print(1-distance)"
   ]
  },
  {
   "cell_type": "markdown",
   "metadata": {},
   "source": [
    "## Line Coverage\n",
    "* Lines Executed / Total Executable Lines"
   ]
  },
  {
   "cell_type": "markdown",
   "metadata": {},
   "source": [
    "## Branch Coverage\n",
    "* Branches Executed / Total Executable Lines"
   ]
  },
  {
   "cell_type": "code",
   "execution_count": null,
   "metadata": {},
   "outputs": [],
   "source": []
  }
 ],
 "metadata": {
  "kernelspec": {
   "display_name": "Python 3",
   "language": "python",
   "name": "python3"
  },
  "language_info": {
   "codemirror_mode": {
    "name": "ipython",
    "version": 3
   },
   "file_extension": ".py",
   "mimetype": "text/x-python",
   "name": "python",
   "nbconvert_exporter": "python",
   "pygments_lexer": "ipython3",
   "version": "3.10.12"
  }
 },
 "nbformat": 4,
 "nbformat_minor": 2
}
