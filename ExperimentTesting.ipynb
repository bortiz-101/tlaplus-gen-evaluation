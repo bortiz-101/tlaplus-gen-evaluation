{
 "cells": [
  {
   "cell_type": "markdown",
   "metadata": {},
   "source": [
    "## Importing Libraries"
   ]
  },
  {
   "cell_type": "code",
   "execution_count": null,
   "metadata": {},
   "outputs": [],
   "source": [
    "import argparse\n",
    "import multiprocessing\n",
    "import os\n",
    "\n",
    "import torch\n",
    "import transformers\n",
    "from accelerate import PartialState\n",
    "from datasets import load_dataset\n",
    "from peft import LoraConfig\n",
    "from transformers import (\n",
    "    AutoModelForCausalLM,\n",
    "    BitsAndBytesConfig,\n",
    "    logging,\n",
    "    set_seed,\n",
    ")\n",
    "from trl import SFTTrainer\n"
   ]
  },
  {
   "cell_type": "markdown",
   "metadata": {},
   "source": [
    "## Testing DeepSeek Loading"
   ]
  },
  {
   "cell_type": "code",
   "execution_count": 1,
   "metadata": {},
   "outputs": [
    {
     "name": "stderr",
     "output_type": "stream",
     "text": [
      "/media/mujtaba/DATA/nick/miniconda3/envs/UnitTestGeneration/lib/python3.9/site-packages/tqdm/auto.py:21: TqdmWarning: IProgress not found. Please update jupyter and ipywidgets. See https://ipywidgets.readthedocs.io/en/stable/user_install.html\n",
      "  from .autonotebook import tqdm as notebook_tqdm\n"
     ]
    },
    {
     "name": "stdout",
     "output_type": "stream",
     "text": [
      "0\n",
      "True\n",
      "GPU\n"
     ]
    },
    {
     "name": "stderr",
     "output_type": "stream",
     "text": [
      "`low_cpu_mem_usage` was None, now default to True since model is quantized.\n",
      "Loading checkpoint shards: 100%|██████████| 4/4 [00:54<00:00, 13.74s/it]\n"
     ]
    }
   ],
   "source": [
    "\n",
    "# config\n",
    "bnb_config = BitsAndBytesConfig(\n",
    "    load_in_4bit=True,\n",
    "    bnb_4bit_quant_type=\"nf4\",\n",
    "    bnb_4bit_compute_dtype=torch.bfloat16,\n",
    ")\n",
    "lora_config = LoraConfig(\n",
    "    r=8,\n",
    "    target_modules=[\n",
    "        \"q_proj\",\n",
    "        \"o_proj\",\n",
    "        \"k_proj\",\n",
    "        \"v_proj\",\n",
    "        \"gate_proj\",\n",
    "        \"up_proj\",\n",
    "        \"down_proj\",\n",
    "    ],\n",
    "    task_type=\"CAUSAL_LM\",\n",
    ")\n",
    "# load model and dataset\n",
    "token = os.environ.get(\"HF_TOKEN\", None)\n",
    "# print out selected device\n",
    "print(PartialState().process_index)\n",
    "#Check for GPU availability\n",
    "print(torch.cuda.is_available())\n",
    "if torch.cuda.is_available():\n",
    "    print(\"GPU\")\n",
    "    with torch.device(\"cuda:2\"):\n",
    "        model = AutoModelForCausalLM.from_pretrained(\n",
    "            \"deepseek-ai/DeepSeek-Coder-V2-Lite-Instruct\",\n",
    "            quantization_config=bnb_config,\n",
    "            attention_dropout=0.1,\n",
    "            trust_remote_code=True,\n",
    "        ).to(\"cuda:2\")\n",
    "else:\n",
    "    #Handle no GPU availiability\n",
    "    print(\"No GPU\")\n",
    "    with torch.device(\"cpu\"):\n",
    "        model = AutoModelForCausalLM.from_pretrained(\n",
    "            \"deepseek-ai/DeepSeek-Coder-V2-Lite-Instruct\",\n",
    "            quantization_config=bnb_config,\n",
    "            attention_dropout=0.1,\n",
    "            trust_remote_code=True,\n",
    "        ).to(\"cpu\")\n",
    "\n",
    "#if torch.cuda.device_count() > 1:\n",
    "#    print(\"Using DataParallel for multiple GPUs\")\n",
    "#    model = torch.nn.DataParallel(model)\n",
    "\n",
    "#model.to(device)\n",
    "# Freeze all except embeddings and first layer\n",
    "#for name, param in model.named_parameters():\n",
    "#    if \"model.embed_tokens\" not in name and \"model.layers.0\" not in name:\n",
    "#        param.requires_grad = False\n",
    "#    else:\n",
    "#        param.requries_grad = True"
   ]
  },
  {
   "cell_type": "markdown",
   "metadata": {},
   "source": [
    "## Testing Dataset Training"
   ]
  },
  {
   "cell_type": "code",
   "execution_count": null,
   "metadata": {},
   "outputs": [],
   "source": [
    "print(args.dataset_name)\n",
    "    print(args.subset)\n",
    "    print(args.split)\n",
    "    print(token)\n",
    "    print(args.num_proc if args.num_proc else multiprocessing.cpu_count())\n",
    "    \n",
    "    '''Original file from hugging face hub\n",
    "    data = load_dataset(\n",
    "        args.dataset_name,\n",
    "        data_files=args.subset,\n",
    "        split=args.split,\n",
    "        token=token,\n",
    "        num_proc=args.num_proc if args.num_proc else multiprocessing.cpu_count(),\n",
    "    )'''\n",
    "\n",
    "    data = load_dataset(\n",
    "        'parquet', \n",
    "        data_files=args.subset, \n",
    "        split=args.split,\n",
    "        num_proc=args.num_proc if args.num_proc else multiprocessing.cpu_count(),\n",
    "    )\n",
    "\n",
    "    print('Dataset type: ', type(data))"
   ]
  }
 ],
 "metadata": {
  "kernelspec": {
   "display_name": "UnitTestGeneration",
   "language": "python",
   "name": "python3"
  },
  "language_info": {
   "codemirror_mode": {
    "name": "ipython",
    "version": 3
   },
   "file_extension": ".py",
   "mimetype": "text/x-python",
   "name": "python",
   "nbconvert_exporter": "python",
   "pygments_lexer": "ipython3",
   "version": "3.9.21"
  }
 },
 "nbformat": 4,
 "nbformat_minor": 2
}
