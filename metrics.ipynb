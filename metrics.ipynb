{
 "cells": [
  {
   "cell_type": "markdown",
   "metadata": {},
   "source": [
    "## CSR\n",
    "* Get generated code into a file\n",
    "* Attempt to compile the file when formatted correctly\n",
    "* 1 for successful compilation, 0 for unsuccessful"
   ]
  },
  {
   "cell_type": "markdown",
   "metadata": {},
   "source": [
    "## CodeBLEU\n",
    "* Different considerations rather than simple n-gram matching (BLEU)\n",
    "    * Weighted N-Gram Matching\n",
    "    * Syntactic AST Match\n",
    "    * Semantic Data-flow Match"
   ]
  },
  {
   "cell_type": "code",
   "execution_count": 2,
   "metadata": {},
   "outputs": [
    {
     "name": "stdout",
     "output_type": "stream",
     "text": [
      "BLEU: 61.08 ; Acc: 50.0\n"
     ]
    },
    {
     "data": {
      "text/plain": [
       "CompletedProcess(args=['python', 'CodeXGLUE/Code-Code/code-to-code-trans/evaluator/evaluator.py', '-ref', 'CodeXGLUE/Code-Code/code-to-code-trans/evaluator/references.txt', '-pre', 'CodeXGLUE/Code-Code/code-to-code-trans/evaluator/predictions.txt'], returncode=0)"
      ]
     },
     "execution_count": 2,
     "metadata": {},
     "output_type": "execute_result"
    }
   ],
   "source": [
    "import os\n",
    "import subprocess\n",
    "\n",
    "subprocess.run([\"python\", \"CodeXGLUE/Code-Code/code-to-code-trans/evaluator/evaluator.py\", \"-ref\", \"CodeXGLUE/Code-Code/code-to-code-trans/evaluator/references.txt\", \"-pre\", \"CodeXGLUE/Code-Code/code-to-code-trans/evaluator/predictions.txt\"])"
   ]
  },
  {
   "cell_type": "markdown",
   "metadata": {},
   "source": [
    "## EM (Exact Match)"
   ]
  },
  {
   "cell_type": "markdown",
   "metadata": {},
   "source": [
    "## Acc@10 (Any top 10 generations exactly match)"
   ]
  }
 ],
 "metadata": {
  "kernelspec": {
   "display_name": "UnitTestGeneration",
   "language": "python",
   "name": "python3"
  },
  "language_info": {
   "codemirror_mode": {
    "name": "ipython",
    "version": 3
   },
   "file_extension": ".py",
   "mimetype": "text/x-python",
   "name": "python",
   "nbconvert_exporter": "python",
   "pygments_lexer": "ipython3",
   "version": "3.9.21"
  }
 },
 "nbformat": 4,
 "nbformat_minor": 2
}
